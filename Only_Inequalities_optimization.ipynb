{
  "cells": [
    {
      "cell_type": "code",
      "execution_count": null,
      "metadata": {
        "id": "SFVI3Aq7_mSh"
      },
      "outputs": [],
      "source": [
        "import torch\n",
        "import numpy as np\n",
        "from tqdm import tqdm\n",
        "import time\n",
        "import itertools\n",
        "import random\n",
        "import matplotlib.pyplot as plt"
      ]
    },
    {
      "cell_type": "markdown",
      "metadata": {
        "id": "J9XV7x6WqS9F"
      },
      "source": [
        "# First we will optimize over the space of the Sub-modular functions.\n",
        "\n",
        "\n",
        "Here we will have $lp$ be learned tensor and $lq$ be the target tensor. \n",
        "\n",
        "We show the problem of $lp$ being sub modular and we want to minimize $\\|lp - lq\\|^2$. \n",
        "\n",
        "\n",
        "## Oracles\n",
        "\n",
        "### Deterministic Oracle\n",
        "\n",
        "We just go through all $\\binom{n}{2} 2^{n-2}$ constraints and see which ones are violated. \n",
        "\n",
        "### Random Oralce\n",
        "\n",
        "For each of the $\\binom{n}{2}$ pairs, we sample $5n$ constraints randomly from the $2^{n-2}$ constraints. We return the violated ones. "
      ]
    },
    {
      "cell_type": "code",
      "execution_count": null,
      "metadata": {
        "id": "-q7NuwNIqZBQ"
      },
      "outputs": [],
      "source": [
        "# input is the tensor with the probability of a binary string given at that index. \n",
        "def deterministic_oracle(lp, pi, n, tol = 1e-10, exclude = [], sub = True):\n",
        "  inequalities = []\n",
        "  N = 2**(n)\n",
        "  for i in range(n):\n",
        "    if i in exclude:\n",
        "        continue\n",
        "    for j in range(i):\n",
        "      if j in exclude:\n",
        "        continue\n",
        "      if pi[i] == \"id\" and pi[j] == \"id\":\n",
        "        sgn = -1\n",
        "      elif pi[i] == \"switch\" and pi[j] == \"switch\":\n",
        "        sgn = -1\n",
        "      else:\n",
        "        sgn = 1\n",
        "      if not sub:\n",
        "        sgn += -1\n",
        "      for k in range(N//4): #Think seeing every inequality 4 times. \n",
        "        p = format(k,\"0\"+str(n-2)+\"b\")\n",
        "        p11 = list(format(k,\"0\"+str(n)+\"b\"))\n",
        "        p22 = list(format(k,\"0\"+str(n)+\"b\"))\n",
        "        p12 = list(format(k,\"0\"+str(n)+\"b\"))\n",
        "        p21 = list(format(k,\"0\"+str(n)+\"b\"))\n",
        "        idx = 0\n",
        "        for l in range(n):\n",
        "          if l != i and l != j:\n",
        "            p11[l] = p[idx]\n",
        "            p12[l] = p[idx]\n",
        "            p21[l] = p[idx]\n",
        "            p22[l] = p[idx]\n",
        "            idx += 1\n",
        "          elif l == i:\n",
        "            p11[l] = \"0\"\n",
        "            p12[l] = \"0\"\n",
        "            p21[l] = \"1\"\n",
        "            p22[l] = \"1\"\n",
        "          elif l == j:\n",
        "            p11[l] = \"0\"\n",
        "            p12[l] = \"1\"\n",
        "            p21[l] = \"0\"\n",
        "            p22[l] = \"1\"\n",
        "        p11 = \"\".join(p11)\n",
        "        p12 = \"\".join(p12)\n",
        "        p21 = \"\".join(p21)\n",
        "        p22 = \"\".join(p22)\n",
        "        \n",
        "        a = int(p11,2)\n",
        "        b = int(p22,2)\n",
        "        c = int(p12,2)\n",
        "        d = int(p21,2)\n",
        "\n",
        "        # Checks if p11 p22 > p12 p21\n",
        "        if lp[a]*sgn + lp[b]*sgn + lp[c]*(-sgn) + lp[d]*(-sgn) < tol:\n",
        "          key = tuple([a,b,c,d,sgn])\n",
        "          if key not in inequalities:\n",
        "            inequalities.append(tuple([a,b,c,d,sgn]))\n",
        "\n",
        "  return inequalities\n",
        "\n",
        "# input is the tensor with the probability of a binary string given at that index. \n",
        "def random_oracle(lp, pi, n, exclude = [], sub = True):\n",
        "  inequalities = []\n",
        "  N = 2**(n)\n",
        "  for i in range(n):\n",
        "    if i in exclude:\n",
        "        continue\n",
        "    for j in range(i):\n",
        "      if j in exclude:\n",
        "        continue\n",
        "      if pi[i] == \"id\" and pi[j] == \"id\":\n",
        "        sgn = -1\n",
        "      elif pi[i] == \"switch\" and pi[j] == \"switch\":\n",
        "        sgn = -1\n",
        "      else:\n",
        "        sgn = 1\n",
        "      if not sub:\n",
        "        sgn += -1\n",
        "      for k in range(5*n):\n",
        "        index = np.random.randint(N)\n",
        "        p = format(index,\"0\"+str(n)+\"b\")\n",
        "        p11 = list(p)\n",
        "        p22 = list(p)\n",
        "        p12 = list(p)\n",
        "        p21 = list(p)\n",
        "        idx = 0\n",
        "        for l in range(n):\n",
        "          if l != i and l != j:\n",
        "            p11[l] = p[idx]\n",
        "            p12[l] = p[idx]\n",
        "            p21[l] = p[idx]\n",
        "            p22[l] = p[idx]\n",
        "            idx += 1\n",
        "          elif l == i:\n",
        "            p11[l] = \"0\"\n",
        "            p12[l] = \"0\"\n",
        "            p21[l] = \"1\"\n",
        "            p22[l] = \"1\"\n",
        "          elif l == j:\n",
        "            p11[l] = \"0\"\n",
        "            p12[l] = \"1\"\n",
        "            p21[l] = \"0\"\n",
        "            p22[l] = \"1\"\n",
        "        p11 = \"\".join(p11)\n",
        "        p12 = \"\".join(p12)\n",
        "        p21 = \"\".join(p21)\n",
        "        p22 = \"\".join(p22)\n",
        "        \n",
        "        a = int(p11,2)\n",
        "        b = int(p22,2)\n",
        "        c = int(p12,2)\n",
        "        d = int(p21,2)\n",
        "\n",
        "        if lp[a]*sgn + lp[b]*sgn + lp[c]*(-sgn) + lp[d]*(-sgn) < 0:\n",
        "          key = tuple([a,b,c,d,sgn])\n",
        "          inequalities.append(tuple([a,b,c,d,sgn]))\n",
        "\n",
        "  return inequalities\n",
        "\n",
        "def solve(lq, pi, iters = 100, random = False, exclude = [], sub = True):\n",
        "  N = lq.shape[0]\n",
        "  n = int(np.log2(N))\n",
        "\n",
        "  lp = torch.clone(lq)\n",
        "  Z = dict()\n",
        "\n",
        "  for iteration in range(iters):\n",
        "    if random:\n",
        "      inequalities = random_oracle(lp, pi, n, exclude = exclude, sub = sub)\n",
        "    else:\n",
        "      inequalities = deterministic_oracle(lp, pi, n, exclude = exclude, sub = sub)\n",
        "    max_deficit = 0\n",
        "    for key in inequalities:\n",
        "      a,b,c,d,sgn = key\n",
        "\n",
        "      deficit = lp[a]*sgn + lp[b]*sgn + lp[c]*(-sgn) + lp[d]*(-sgn)\n",
        "      if deficit < max_deficit:\n",
        "        max_deficit = deficit \n",
        "      if key in Z:\n",
        "        z = Z[key]\n",
        "      else:\n",
        "        z = 0\n",
        "        Z[key] = 0\n",
        "      theta = min(deficit/4,z)\n",
        "\n",
        "      lp[a] += -sgn*theta\n",
        "      lp[b] += -sgn*theta\n",
        "      lp[c] += sgn*theta\n",
        "      lp[d] += sgn*theta\n",
        "\n",
        "      if abs(z - theta) < 1e-10:\n",
        "        del Z[key]\n",
        "      else:\n",
        "        Z[key] -= theta\n",
        "\n",
        "    for _ in range(5):\n",
        "      deletes = []\n",
        "      for key in Z:\n",
        "        a,b,c,d,sgn = key\n",
        "\n",
        "        deficit = lp[a]*sgn + lp[b]*sgn + lp[c]*(-sgn) + lp[d]*(-sgn)\n",
        "        if deficit < max_deficit:\n",
        "          max_deficit = deficit \n",
        "        z = Z[key]\n",
        "\n",
        "        theta = min(deficit/4,z)\n",
        "\n",
        "        lp[a] += -sgn*theta\n",
        "        lp[b] += -sgn*theta\n",
        "        lp[c] += sgn*theta\n",
        "        lp[d] += sgn*theta\n",
        "\n",
        "        if abs(z - theta) < 1e-10:\n",
        "          deletes.append(key)\n",
        "        else:\n",
        "          Z[key] -= theta\n",
        "        \n",
        "      for key in deletes:\n",
        "        del Z[key]\n",
        "\n",
        "    # if iteration % 20 == 0:\n",
        "    #   print((lp-lq).square().sum().sqrt(), max_deficit, len(Z))\n",
        "\n",
        "    if max_deficit > -1e-6*torch.norm(lq):\n",
        "      return lp\n",
        "\n",
        "\n",
        "  return lp\n",
        "\n",
        "def calc_low_rank_approx(lq,r, iters = 1000, sub = True, random = False):\n",
        "  N = lq.shape[0]\n",
        "  n = int(np.log2(N))\n",
        "  partitions = list(itertools.combinations(list(range(n)), r))\n",
        "  best_exclude = []\n",
        "  best_lp = lq\n",
        "  best_error = float('inf')\n",
        "  for ex in partitions:\n",
        "    exclude = list(ex)\n",
        "    lp = solve(lq, ['id' for _ in range(n)], iters, random = random, exclude = exclude, sub = sub)\n",
        "    if (lp-lq).square().sum() < best_error:\n",
        "      best_error = (lp-lq).square().sum() \n",
        "      best_lp = lp\n",
        "      best_exclude = exclude\n",
        "  return best_error, best_lp, best_exclude\n",
        "\n",
        "def check_low_rank_approx(lq,r, sub = True):\n",
        "  N = lq.shape[0]\n",
        "  n = int(np.log2(N))\n",
        "  partitions = list(itertools.combinations(list(range(n)), r))\n",
        "  for ex in partitions:\n",
        "    exclude = list(ex)\n",
        "    ineqs = deterministic_oracle(lq, ['id' for _ in range(n)], n, exclude = exclude, sub = sub)\n",
        "    if len(ineqs) == 0:\n",
        "      return True\n",
        "  return False"
      ]
    },
    {
      "cell_type": "code",
      "execution_count": null,
      "metadata": {
        "colab": {
          "background_save": true,
          "base_uri": "https://localhost:8080/"
        },
        "id": "6lf2lc5nRjwb",
        "outputId": "6db257c1-90c0-478e-c480-c02cf5f03349"
      },
      "outputs": [
        {
          "name": "stderr",
          "output_type": "stream",
          "text": [
            "100%|██████████| 5000000/5000000 [7:33:10<00:00, 183.89it/s]\n"
          ]
        },
        {
          "name": "stdout",
          "output_type": "stream",
          "text": [
            "tensor([0., 0., 0., 0., 0.])\n"
          ]
        },
        {
          "name": "stderr",
          "output_type": "stream",
          "text": [
            "  2%|▏         | 101462/5000000 [27:00<21:39:38, 62.82it/s]"
          ]
        }
      ],
      "source": [
        "volumes = torch.zeros(5,5)\n",
        "T = 5000000\n",
        "\n",
        "for i,n in enumerate(range(5,8)):\n",
        "  for r in range(0,5):\n",
        "    if r > n-1:\n",
        "      continue\n",
        "    for t in tqdm(range(T)):\n",
        "      lq = torch.randn(2**n)\n",
        "      if check_low_rank_approx(lq,r):\n",
        "        volumes[i,r] += 1/T\n",
        "    print(volumes[i,:])\n",
        "    \n"
      ]
    },
    {
      "cell_type": "code",
      "execution_count": null,
      "metadata": {
        "id": "AW3rhVlx_9rj"
      },
      "outputs": [],
      "source": [
        "times = torch.zeros(8)\n",
        "diff = torch.zeros(8)\n",
        "n = 8\n",
        "\n",
        "lq = (torch.rand(2**n)+10).log()\n",
        "\n",
        "for r in range(7):\n",
        "  t0 = time.time()\n",
        "  be, blp, bex = calc_low_rank_approx(lq,r, iters = 1000, random = False)\n",
        "  t1 = time.time()\n",
        "\n",
        "  times[r] = t1-t0\n",
        "  diff[r] = torch.norm(lq-blp)/torch.norm(lq)\n",
        "\n",
        "  print(times[r], diff[r], bex)\n",
        "\n",
        "  "
      ]
    },
    {
      "cell_type": "code",
      "execution_count": null,
      "metadata": {
        "id": "D5hCyK6kttrl"
      },
      "outputs": [],
      "source": [
        "time_rand = torch.zeros(20)\n",
        "time_det = torch.zeros(20)\n",
        "dif = torch.zeros(20)\n",
        "\n",
        "for n in range(4,24):\n",
        "\n",
        "  lq = (torch.rand(2**n)+10).log()\n",
        "  t0 = time.time()\n",
        "  lp = solve(lq, ['id' for _ in range(100)], 1500, random = True, exclude = [0,1,2])\n",
        "  t1 = time.time()\n",
        "  lp2 = solve(lq, ['id' for _ in range(100)], 1000, random = False, exclude = [0,1,2,3,4,5,6])\n",
        "  t2 = time.time()\n",
        "\n",
        "  print(torch.norm(lq))\n",
        "\n",
        "  time_det[n-4] = t1-t0\n",
        "  time_rand[n-4] = t2-t1\n",
        "  dif[n-4] = torch.norm(lq-lp2)/torch.norm(lq)\n",
        "  print(time_det[n-4], time_rand[n-4], dif[n-4])\n",
        "  print(deterministic_oracle(lp, ['id' for _ in range(100)], 4, -1e-5*torch.norm(lq) ))\n",
        "  print(deterministic_oracle(lp2, ['id' for _ in range(100)], 4, -1e-5*torch.norm(lq) ))"
      ]
    },
    {
      "cell_type": "markdown",
      "metadata": {
        "id": "-6dbMNKn_x0Y"
      },
      "source": [
        "Here we assume that we have data $x_1, \\ldots, x_k \\in \\{0,1\\}^n$ and then for each $s \\in \\{0,1\\}^n$ we define \n",
        "\n",
        "$$ p_s = \\frac{| \\{ x_i = s \\}|}{k}. $$\n",
        "\n",
        "Then given permutations $\\pi_1, \\ldots, \\pi_m$ and the polytope $L_{\\pi} = L_{\\pi_1} + \\ldots + L_{\\pi_m}$, we want to solve the following problem \n",
        "\n",
        "$$\\text{arg}\\min_{q_i \\in L_{\\pi_i}} D_{KL}(p || q_1 \\cdot \\ldots \\cdot q_m) + \\lambda \\|\\log(q_1) + \\ldots + \\log(q_m) - \\log(p)\\|_2^2. $$\n",
        "\n",
        "We start by noting that \n",
        "\n",
        "$$D_{KL}(p || q_1 \\cdot \\ldots \\cdot q_m) = \\mathbb{E}_{p}[\\log(p) - \\log(q)] . $$\n",
        "\n",
        "Thus, we can rewrite the problem as \n",
        "\n",
        "$$\\text{arg}\\min_{q_i \\in L_{\\pi_i}}  \\frac{\\lambda}{2} \\|\\log(q_1) + \\ldots + \\log(q_m) - \\log(p)\\|_2^2 - \\mathbb{E}_p\\left[\\log(q_1) + \\ldots + \\log(q_m)\\right]. $$\n",
        "\n",
        "For notational convinience we shall define $lq_i = \\log(q_i)$. \n",
        "\n",
        "Now to run Project and Forget, we will define $f(lq_1, \\ldots, lq_m) = \\frac{\\lambda}{2} \\|lq_1 + \\ldots + lq_m - lp\\|_2^2 - \\mathbb{E}_p\\left[lq_1 + \\ldots + lq_m\\right]$. Then to start the algorithm we need to compute $lq^0$ such that $\\nabla f (lq^0) = 0$. \n",
        "\n",
        "First, we see that the gradient is for $lq_i$ is \n",
        "\n",
        "$$\\lambda(lq_1 + \\ldots + lq_m - lp) - p$$, thus, we see that\n",
        "\n",
        "$$lq_1 + \\ldots + lq_m = lp + \\frac{1}{\\lambda}p. $$\n",
        "\n",
        "\n",
        "Thus, we can pick $lq_i = \\frac{1}{m} (lp + \\frac{1}{\\lambda} p).$\n",
        "\n",
        "Note: Here the Hessian as block diagonal structure, with each block being $m \\times m$ that is all equal to $\\lambda 11^T.$ Thus, we don't have strict convexity that we need for the Project and Forget theory to apply. However, since the inequalities do not interact this might be okay....\n",
        "\n",
        "The next thing we need to figure out is how to compute the projections for the project step. For that we need to use the Bregman divergence given by \n",
        "\n",
        "\\begin{align} D_f(x_1,\\ldots, x_m ||y_1, \\ldots, y_m) &= \\frac{1}{2}\\|x_1 + \\ldots + x_m - z\\|^2 - \\frac{1}{2}\\|y_1 + \\ldots + y_m - z\\|^2 - \\sum_{j=1}^n (y_1^j + \\ldots + y_m^j - z) (x_1^j + \\ldots + x_m^j - y_1^j - \\ldots - y_m^j) \\\\\n",
        "                                         &= \\frac{1}{2}\\|x_1 + \\ldots + x_m\\|^2 - \\frac{1}{2}\\|y_1 + \\ldots + y_m\\|^2 - \\sum_{j=1}^n (y_1^j + \\ldots + y_m^j) (x_1^j + \\ldots + x_m^j - y_1^j - \\ldots - y_m^j) \\\\\n",
        "                                         &= \\frac{1}{2}\\|x_1 + \\ldots + x_m\\|^2 + \\frac{1}{2}\\|y_1 + \\ldots + y_m\\|^2 - \\sum_{j=1}^n (y_1^j + \\ldots + y_m^j) (x_1^j + \\ldots + x_m^j) \\\\\n",
        "                                         &= \\frac{1}{2}\\|x_1 + \\ldots + x_m - (y_1 + \\ldots + y_m)\\|^2 \n",
        "\\end{align}\n",
        "\n",
        "\n",
        "Then to compute the projection, we just compute the deficit and set $\\theta$ to be the deficit divided 4. So the only thing for the sums, we need to run the oracle individually, (which we have the code for) and then the projections are the same. \n",
        "\n",
        "**The only difference comes from the initialization**. Note changing the initialization may change the solution. "
      ]
    },
    {
      "cell_type": "code",
      "execution_count": null,
      "metadata": {
        "id": "cf25JZ2N_xOm"
      },
      "outputs": [],
      "source": [
        "def solve_sum_mle(q, pi, lam = 1, iters = 100, random = False):\n",
        "  lq = q.log()\n",
        "  N = lq.shape[0]\n",
        "  n = int(np.log2(N))\n",
        "\n",
        "  m = len(pi)\n",
        "  print(m, lam)\n",
        "\n",
        "  lp = torch.zeros(m, N, dtype = torch.double)\n",
        "  alpha = torch.nn.functional.softmax(torch.rand(m))\n",
        "  print(alpha.sum(), alpha)\n",
        "  for i in range(m):\n",
        "    lp[i,:] = alpha[i]*(torch.clone(lq)+q/lam)\n",
        "\n",
        "  max_deficit = 0\n",
        "\n",
        "  print(torch.norm(lp.sum(dim=0)-lq))\n",
        "  print(lam*(lp.sum(dim=0)-lq).square().sum()/2 - (q*(lp.sum(dim=0))).sum())\n",
        "\n",
        "  Z = dict()\n",
        "\n",
        "  for _ in tqdm(range(iters)):\n",
        "    inequalities = dict()\n",
        "\n",
        "    lp_old = torch.clone(lp)\n",
        "\n",
        "    for j in range(m):\n",
        "      if random:\n",
        "        inequalities[j] = random_oracle(lp[j,:], pi[j], n)\n",
        "      else:\n",
        "        inequalities[j] = deterministic_oracle(lp[j,:], pi[j], n)\n",
        "    max_deficit = 0\n",
        "    max_key = (1,1,1,1,1)\n",
        "    for j in range(m):\n",
        "      for key in inequalities[j]:\n",
        "        a,b,c,d,sgn = key\n",
        "\n",
        "        deficit = lp[j,a]*sgn + lp[j,b]*sgn + lp[j,c]*(-sgn) + lp[j,d]*(-sgn)\n",
        "        if deficit < max_deficit:\n",
        "          max_deficit = deficit \n",
        "          max_key = (j,a,b,c,d,sgn)\n",
        "\n",
        "        new_key = (j,a,b,c,d,sgn)\n",
        "        if new_key in Z:\n",
        "          z = Z[new_key]\n",
        "        else:\n",
        "          z = 0\n",
        "          Z[new_key] = 0\n",
        "        theta = min(deficit/4,z)\n",
        "\n",
        "        lp[j,a] += -sgn*theta/lam\n",
        "        lp[j,b] += -sgn*theta/lam\n",
        "        lp[j,c] += sgn*theta/lam\n",
        "        lp[j,d] += sgn*theta/lam\n",
        "\n",
        "        if abs(z - theta) < 1e-10:\n",
        "          del Z[new_key]\n",
        "        else:\n",
        "          Z[new_key] -= theta\n",
        "    count = 0\n",
        "    for _ in range(5):\n",
        "      deletes = []\n",
        "      for key in Z:\n",
        "        j,a,b,c,d,sgn = key\n",
        "\n",
        "        deficit = lp[j,a]*sgn + lp[j,b]*sgn + lp[j,c]*(-sgn) + lp[j,d]*(-sgn)\n",
        "        if deficit < max_deficit:\n",
        "          max_deficit = deficit \n",
        "          max_key = key\n",
        "        z = Z[key]\n",
        "\n",
        "        if z < 0:\n",
        "          print(z)\n",
        "\n",
        "        theta = min(deficit/4,z)\n",
        "\n",
        "        lp[j,a] += -sgn*theta/lam\n",
        "        lp[j,b] += -sgn*theta/lam\n",
        "        lp[j,c] += sgn*theta/lam\n",
        "        lp[j,d] += sgn*theta/lam\n",
        "\n",
        "        if deficit/4 > z:\n",
        "          deletes.append(key)\n",
        "        else:\n",
        "          Z[key] -= theta\n",
        "        \n",
        "      for key in deletes:\n",
        "        del Z[key]\n",
        "\n",
        "    # print(count)\n",
        "    # print(torch.norm(lp.sum(dim=0)-lq), max_deficit, (lp-lp_old).abs().sum(), len(Z))\n",
        "\n",
        "\n",
        "    if max_deficit > -1e-15:\n",
        "      print(torch.norm(lp.sum(dim=0)-lq))\n",
        "      print(lam*(lp.sum(dim=0)-lq).square().sum()/2 - (q*(lp.sum(dim=0))).sum())\n",
        "      return lp, Z\n",
        "  print(max_deficit)\n",
        "  print((lp.sum(dim=0)-lq).square().sum().sqrt())\n",
        "  print((q*(lp.sum(dim=0))).sum())\n",
        "  return lp, Z"
      ]
    },
    {
      "cell_type": "code",
      "execution_count": null,
      "metadata": {
        "id": "6MhBLqZUuwlD"
      },
      "outputs": [],
      "source": [
        "def solve_sum(lq, pi, mu_squared = 1, iters = 100, random = False):\n",
        "  N = lq.shape[0]\n",
        "  n = int(np.log2(N))\n",
        "\n",
        "  m = len(pi)\n",
        "  print(m, mu_squared)\n",
        "\n",
        "  lp = torch.zeros(m, N, dtype = torch.double)\n",
        "  for i in range(m):\n",
        "    lp[i,:] = (torch.clone(lq)/(m+mu_squared))\n",
        "\n",
        "  max_deficit = 0\n",
        "\n",
        "  Z = dict()\n",
        "\n",
        "  for _ in tqdm(range(iters)):\n",
        "    inequalities = dict()\n",
        "\n",
        "    lp_old = torch.clone(lp)\n",
        "\n",
        "    for j in range(m):\n",
        "      if random:\n",
        "        inequalities[j] = random_oracle(lp[j,:], pi[j], n)\n",
        "      else:\n",
        "        inequalities[j] = deterministic_oracle(lp[j,:], pi[j], n)\n",
        "    max_deficit = 0\n",
        "    max_key = (1,1,1,1,1)\n",
        "    for j in range(m):\n",
        "      for key in inequalities[j]:\n",
        "        a,b,c,d,sgn = key\n",
        "\n",
        "        deficit = lp[j,a]*sgn + lp[j,b]*sgn + lp[j,c]*(-sgn) + lp[j,d]*(-sgn)\n",
        "        if deficit < max_deficit:\n",
        "          max_deficit = deficit \n",
        "          max_key = (j,a,b,c,d,sgn)\n",
        "\n",
        "        new_key = (j,a,b,c,d,sgn)\n",
        "        if new_key in Z:\n",
        "          z = Z[new_key]\n",
        "        else:\n",
        "          z = 0\n",
        "          Z[new_key] = 0\n",
        "        theta = min(deficit/4,z)\n",
        "\n",
        "        lp[j,a] += -sgn*theta/(1+mu_squared)\n",
        "        lp[j,b] += -sgn*theta/(1+mu_squared)\n",
        "        lp[j,c] += sgn*theta/(1+mu_squared)\n",
        "        lp[j,d] += sgn*theta/(1+mu_squared)\n",
        "\n",
        "        if abs(z - theta) < 1e-10:\n",
        "          del Z[new_key]\n",
        "        else:\n",
        "          Z[new_key] -= theta\n",
        "    count = 0\n",
        "    for _ in range(5):\n",
        "      deletes = []\n",
        "      for key in Z:\n",
        "        j,a,b,c,d,sgn = key\n",
        "\n",
        "        deficit = lp[j,a]*sgn + lp[j,b]*sgn + lp[j,c]*(-sgn) + lp[j,d]*(-sgn)\n",
        "        if deficit < max_deficit:\n",
        "          max_deficit = deficit \n",
        "          max_key = key\n",
        "        z = Z[key]\n",
        "\n",
        "        if z < 0:\n",
        "          print(z)\n",
        "\n",
        "        theta = min(deficit/4,z)\n",
        "\n",
        "        lp[j,a] += -sgn*theta/(1+mu_squared)\n",
        "        lp[j,b] += -sgn*theta/(1+mu_squared)\n",
        "        lp[j,c] += sgn*theta/(1+mu_squared)\n",
        "        lp[j,d] += sgn*theta/(1+mu_squared)\n",
        "\n",
        "        if deficit/4 > z:\n",
        "          deletes.append(key)\n",
        "        else:\n",
        "          Z[key] -= theta\n",
        "        \n",
        "      for key in deletes:\n",
        "        del Z[key]\n",
        "\n",
        "    # print(count)\n",
        "    # print(torch.norm(lp.sum(dim=0)-lq), max_deficit, (lp-lp_old).abs().sum(), len(Z))\n",
        "\n",
        "\n",
        "    if max_deficit > -1e-15:\n",
        "      print(torch.norm(lp.sum(dim=0)-lq)/(lq.square().sum().sqrt()))\n",
        "      return lp, Z\n",
        "  print(max_deficit)\n",
        "  # print((lp.sum(dim=0)-lq).square().sum().sqrt())/(lq.square().sum().sqrt())\n",
        "  return lp, Z"
      ]
    },
    {
      "cell_type": "code",
      "execution_count": null,
      "metadata": {
        "id": "0AXrVtkhTLW3"
      },
      "outputs": [],
      "source": [
        "torch.set_printoptions(precision = 10)\n",
        "\n",
        "lq = (torch.randn(2**4, dtype = torch.double))/100\n",
        "\n",
        "# l1 = solve(lq, ['id','id','id','id'], 1500, random = False)\n",
        "# print(\"  \")\n",
        "\n",
        "# print(lq)\n",
        "\n",
        "# l2 = solve(lq, ['switch','id','id','id'], 1500, random = False)\n",
        "# print(\"  \")\n",
        "\n",
        "# print(torch.norm(l1-l2))\n",
        "\n",
        "# print(lq)\n",
        "\n",
        "# lq = l1+l2\n",
        "# q = lq.exp()\n",
        "\n",
        "# q /= q.sum()\n",
        "# lq = q.log()\n",
        "\n",
        "# q /= q.sum()\n",
        "\n",
        "# lp = solve_sum(q, [['id','id','id','id','id','id','id','id','id','id','id','id','id','id','id','id','id','id','id','id'],\n",
        "#                    ['switch','id','id','id','id','id','id','id','id','id','id','id','id','id','id','id','id','id','id','id']], float(\"inf\"), 1500, random = False)[0]\n",
        "# print(\"  \")\n",
        "\n",
        "# lp1 = solve_sum(q, [['id','id','id','id','id','id','id','id','id','id','id','id','id','id','id','id','id','id','id','id'],\n",
        "#                     ['switch','id','id','id','id','id','id','id','id','id','id','id','id','id','id','id','id','id','id','id']], 1e0, 1500, random = False)[0]\n",
        "# print(\"  \")\n",
        "\n",
        "# lp2 = solve_sum(q, [['id','id','id','id','id','id','id','id','id','id','id','id','id','id','id','id','id','id','id','id'],\n",
        "#                     ['switch','id','id','id','id','id','id','id','id','id','id','id','id','id','id','id','id','id','id','id']], 1e2, 150, random = False)[0]\n",
        "# print(\"  \")\n",
        "\n",
        "# lp2 = solve_sum(q, [['id','id','id','id','id','id','id','id','id','id','id','id','id','id','id','id','id','id','id','id'],\n",
        "#                     ['switch','id','id','id','id','id','id','id','id','id','id','id','id','id','id','id','id','id','id','id']], 1e5, 150, random = False)[0]\n",
        "# print(\"  \")\n",
        "\n",
        "# lp2 = solve_sum(q, [['id','id','id','id','id','id','id','id','id','id','id','id','id','id','id','id','id','id','id','id'],\n",
        "#                     ['switch','id','id','id','id','id','id','id','id','id','id','id','id','id','id','id','id','id','id','id']], 1e10, 150, random = False)[0]\n",
        "# print(\"  \")\n",
        "\n",
        "# lp2 = solve_sum(q, [['id','id','id','id','id','id','id','id','id','id','id','id','id','id','id','id','id','id','id','id'],\n",
        "#                     ['switch','id','id','id','id','id','id','id','id','id','id','id','id','id','id','id','id','id','id','id']], 1e15, 150, random = False)[0]\n",
        "# print(\"  \")\n",
        "\n",
        "\n",
        "# lp2 = solve_sum(q, [['id','id','id','id','id','id','id','id','id','id','id','id','id','id','id','id','id','id','id','id'],\n",
        "#                     ['switch','id','id','id','id','id','id','id','id','id','id','id','id','id','id','id','id','id','id','id']], 1e25, 150, random = False)[0]\n",
        "# print(\"  \")\n",
        "\n",
        "# # lp = solve_sum(q, [['id','id','id','id','id','id','id','id','id','id','id','id','id','id','id','id','id','id','id','id'],\n",
        "# #                    ['switch','id','id','id','id','id','id','id','id','id','id','id','id','id','id','id','id','id','id','id'],\n",
        "# #                    ['id','switch','id','id','id','id','id','id','id','id','id','id','id','id','id','id','id','id','id','id']], float(\"inf\"), 1500, random = False)[0]\n",
        "# # print(\"  \")\n",
        "\n",
        "# lp = solve_sum(q, [['id','id','id','id','id','id','id','id','id','id','id','id','id','id','id','id','id','id','id','id'],\n",
        "#                    ['switch','id','id','id','id','id','id','id','id','id','id','id','id','id','id','id','id','id','id','id'],\n",
        "#                    ['id','switch','id','id','id','id','id','id','id','id','id','id','id','id','id','id','id','id','id','id']], 1e2, 150, random = False)[0]\n",
        "# print(\"  \")\n",
        "\n",
        "\n",
        "\n",
        "lp = solve_sum(lq, [['id','id','id','id','id','id','id','id','id','id','id','id','id','id','id','id','id','id','id','id'],\n",
        "                   ['switch','id','id','id','id','id','id','id','id','id','id','id','id','id','id','id','id','id','id','id'],\n",
        "                   ['id','switch','id','id','id','id','id','id','id','id','id','id','id','id','id','id','id','id','id','id']], 1e-1, 5000, random = False)[0]\n",
        "print(q)\n",
        "\n",
        "lp = solve_sum(lq, [['id','id','id','id','id','id','id','id','id','id','id','id','id','id','id','id','id','id','id','id'],\n",
        "                   ['switch','id','id','id','id','id','id','id','id','id','id','id','id','id','id','id','id','id','id','id'],\n",
        "                   ['id','switch','id','id','id','id','id','id','id','id','id','id','id','id','id','id','id','id','id','id'],\n",
        "                   ['id','id','switch','id','id','id','id','id','id','id','id','id','id','id','id','id','id','id','id','id']], 1e-1, 5000, random = False)[0]\n",
        "print(q)\n",
        "\n",
        "lp = solve_sum(lq, [['id','id','id','id','id','id','id','id','id','id','id','id','id','id','id','id','id','id','id','id'],\n",
        "                   ['switch','id','id','id','id','id','id','id','id','id','id','id','id','id','id','id','id','id','id','id'],\n",
        "                   ['id','switch','id','id','id','id','id','id','id','id','id','id','id','id','id','id','id','id','id','id'],\n",
        "                   ['id','id','switch','id','id','id','id','id','id','id','id','id','id','id','id','id','id','id','id','id'],\n",
        "                   ['id','id','id','switch','id','id','id','id','id','id','id','id','id','id','id','id','id','id','id','id']], 1e-1, 5000, random = False)[0]\n",
        "print(q)\n",
        "\n",
        "lp = solve_sum(lq, [['id','id','id','id','id','id','id','id','id','id','id','id','id','id','id','id','id','id','id','id'],\n",
        "                   ['switch','id','id','id','id','id','id','id','id','id','id','id','id','id','id','id','id','id','id','id'],\n",
        "                   ['id','switch','id','id','id','id','id','id','id','id','id','id','id','id','id','id','id','id','id','id'],\n",
        "                   ['id','id','switch','id','id','id','id','id','id','id','id','id','id','id','id','id','id','id','id','id'],\n",
        "                   ['id','id','id','switch','id','id','id','id','id','id','id','id','id','id','id','id','id','id','id','id']], 1e-4, 5000, random = False)[0]\n",
        "print(q)\n",
        "\n",
        "lp = solve_sum(lq, [['id','id','id','id','id','id','id','id','id','id','id','id','id','id','id','id','id','id','id','id'],\n",
        "                   ['switch','id','id','id','id','id','id','id','id','id','id','id','id','id','id','id','id','id','id','id'],\n",
        "                   ['id','switch','id','id','id','id','id','id','id','id','id','id','id','id','id','id','id','id','id','id'],\n",
        "                   ['id','id','switch','id','id','id','id','id','id','id','id','id','id','id','id','id','id','id','id','id'],\n",
        "                   ['id','id','id','switch','id','id','id','id','id','id','id','id','id','id','id','id','id','id','id','id']], 1e-5, 5000, random = False)[0]\n",
        "print(q)\n",
        "\n",
        "lp = solve_sum(lq, [['id','id','id','id','id','id','id','id','id','id','id','id','id','id','id','id','id','id','id','id'],\n",
        "                   ['switch','id','id','id','id','id','id','id','id','id','id','id','id','id','id','id','id','id','id','id'],\n",
        "                   ['id','switch','id','id','id','id','id','id','id','id','id','id','id','id','id','id','id','id','id','id'],\n",
        "                   ['id','id','switch','id','id','id','id','id','id','id','id','id','id','id','id','id','id','id','id','id'],\n",
        "                   ['id','id','id','switch','id','id','id','id','id','id','id','id','id','id','id','id','id','id','id','id']], 1e-6, 5000, random = False)[0]\n",
        "print(q)\n",
        "\n",
        "lp = solve_sum(lq, [['id','id','id','id','id','id','id','id','id','id','id','id','id','id','id','id','id','id','id','id'],\n",
        "                   ['switch','id','id','id','id','id','id','id','id','id','id','id','id','id','id','id','id','id','id','id'],\n",
        "                   ['id','switch','id','id','id','id','id','id','id','id','id','id','id','id','id','id','id','id','id','id'],\n",
        "                   ['id','id','switch','id','id','id','id','id','id','id','id','id','id','id','id','id','id','id','id','id'],\n",
        "                   ['id','id','id','switch','id','id','id','id','id','id','id','id','id','id','id','id','id','id','id','id']], 1e-7, 5000, random = False)[0]\n",
        "print(q)\n",
        "\n",
        "lp = solve_sum(lq, [['id','id','id','id','id','id','id','id','id','id','id','id','id','id','id','id','id','id','id','id'],\n",
        "                   ['switch','id','id','id','id','id','id','id','id','id','id','id','id','id','id','id','id','id','id','id'],\n",
        "                   ['id','switch','id','id','id','id','id','id','id','id','id','id','id','id','id','id','id','id','id','id'],\n",
        "                   ['id','id','switch','id','id','id','id','id','id','id','id','id','id','id','id','id','id','id','id','id'],\n",
        "                   ['id','id','id','switch','id','id','id','id','id','id','id','id','id','id','id','id','id','id','id','id']], 1e-8, 5000, random = False)[0]\n",
        "print(q)\n",
        "\n",
        "# lp = solve_sum(q, [['id','id','id','id','id','id','id','id','id','id','id','id','id','id','id','id','id','id','id','id'],\n",
        "#                    ['switch','id','id','id','id','id','id','id','id','id','id','id','id','id','id','id','id','id','id','id']], 1e0, 5000, random = False)[0]\n",
        "# print(q)\n",
        "\n",
        "# lp = solve_sum(q, [['id','id','id','id','id','id','id','id','id','id','id','id','id','id','id','id','id','id','id','id'],\n",
        "#                    ['switch','id','id','id','id','id','id','id','id','id','id','id','id','id','id','id','id','id','id','id']], 1e-3, 150000, random = False)[0]\n",
        "# print(q)\n",
        "\n",
        "# lp = solve_sum(q, [['id','id','id','id','id','id','id','id','id','id','id','id','id','id','id','id','id','id','id','id'],\n",
        "#                    ['switch','id','id','id','id','id','id','id','id','id','id','id','id','id','id','id','id','id','id','id']], 1e-1, 15000, random = False)[0]\n",
        "# print(q)\n",
        "\n",
        "# lp = solve_sum(q, [['id','id','id','id','id','id','id','id','id','id','id','id','id','id','id','id','id','id','id','id'],\n",
        "#                    ['switch','id','id','id','id','id','id','id','id','id','id','id','id','id','id','id','id','id','id','id']], 1e1, 1500, random = False)[0]\n",
        "# print(q)\n",
        "\n",
        "# lp = solve_sum(q, [['id','id','id','id','id','id','id','id','id','id','id','id','id','id','id','id','id','id','id','id'],\n",
        "#                    ['switch','id','id','id','id','id','id','id','id','id','id','id','id','id','id','id','id','id','id','id'],\n",
        "#                    ['id','switch','id','id','id','id','id','id','id','id','id','id','id','id','id','id','id','id','id','id']], 1e2, 15000, random = False)[0]\n",
        "# print(q)\n",
        "\n",
        "# lp = solve_sum(q, [['id','id','id','id','id','id','id','id','id','id','id','id','id','id','id','id','id','id','id','id'],\n",
        "#                    ['switch','id','id','id','id','id','id','id','id','id','id','id','id','id','id','id','id','id','id','id'],\n",
        "#                    ['id','switch','id','id','id','id','id','id','id','id','id','id','id','id','id','id','id','id','id','id'],\n",
        "#                    ['id','id','switch','id','id','id','id','id','id','id','id','id','id','id','id','id','id','id','id','id']], 1e3, 15000, random = False)[0]\n",
        "# print(q)\n",
        "\n",
        "# lp = solve_sum(q, [['id','id','id','id','id','id','id','id','id','id','id','id','id','id','id','id','id','id','id','id'],\n",
        "#                    ['switch','id','id','id','id','id','id','id','id','id','id','id','id','id','id','id','id','id','id','id'],\n",
        "#                    ['id','switch','id','id','id','id','id','id','id','id','id','id','id','id','id','id','id','id','id','id'],\n",
        "#                    ['id','id','switch','id','id','id','id','id','id','id','id','id','id','id','id','id','id','id','id','id'],\n",
        "#                    ['id','id','id','switch','id','id','id','id','id','id','id','id','id','id','id','id','id','id','id','id']], 1e4, 15000, random = False)[0]\n",
        "# print(q)\n",
        "\n",
        "# lp = solve_sum(q, [['id','id','id','id','id','id','id','id','id','id','id','id','id','id','id','id','id','id','id','id'],\n",
        "#                    ['switch','id','id','id','id','id','id','id','id','id','id','id','id','id','id','id','id','id','id','id']], 1e2, 5000, random = False)[0]\n",
        "# print(q)\n",
        "\n",
        "\n",
        "# lp = solve_sum(q, [['id','id','id','id','id','id','id','id','id','id','id','id','id','id','id','id','id','id','id','id'],\n",
        "#                    ['switch','id','id','id','id','id','id','id','id','id','id','id','id','id','id','id','id','id','id','id']], 1e3, 5000, random = False)[0]\n",
        "# print(\"  \")\n",
        "\n",
        "\n",
        "# lp = solve_sum(q, [['id','id','id','id','id','id','id','id','id','id','id','id','id','id','id','id','id','id','id','id'],\n",
        "#                    ['switch','id','id','id','id','id','id','id','id','id','id','id','id','id','id','id','id','id','id','id']], 1e25, 500, random = False)[0]\n",
        "# print(\"  \")\n",
        "\n",
        "\n",
        "# lp = solve_sum(q, [['id','id','id','id','id','id','id','id','id','id','id','id','id','id','id','id','id','id','id','id'],\n",
        "#                    ['switch','id','id','id','id','id','id','id','id','id','id','id','id','id','id','id','id','id','id','id']], float(\"inf\"), 50000, random = False)[0]\n",
        "# print(\"  \")\n",
        "\n",
        "\n",
        "# lp = solve_sum(q, [['id','id','id','id','id','id','id','id','id','id','id','id','id','id','id','id','id','id','id','id'],\n",
        "#                    ['switch','id','id','id','id','id','id','id','id','id','id','id','id','id','id','id','id','id','id','id'],\n",
        "#                    ['id','switch','id','id','id','id','id','id','id','id','id','id','id','id','id','id','id','id','id','id'],\n",
        "#                    ['id','id','switch','id','id','id','id','id','id','id','id','id','id','id','id','id','id','id','id','id'],\n",
        "#                    ['id','id','id','switch','id','id','id','id','id','id','id','id','id','id','id','id','id','id','id','id'],\n",
        "#                    ['id','id','id','id','switch','id','id','id','id','id','id','id','id','id','id','id','id','id','id','id'],\n",
        "#                    ['id','id','id','id','id','switch','id','id','id','id','id','id','id','id','id','id','id','id','id','id']], 1e5, 500, random = False)[0]\n",
        "# print(\"  \")\n",
        "\n",
        "\n",
        "# lp = solve_sum(q, [['id','id','id','id','id','id','id','id','id','id','id','id','id','id','id','id','id','id','id','id'],\n",
        "#                    ['switch','id','id','id','id','id','id','id','id','id','id','id','id','id','id','id','id','id','id','id'],\n",
        "#                    ['id','switch','id','id','id','id','id','id','id','id','id','id','id','id','id','id','id','id','id','id'],\n",
        "#                    ['id','id','switch','id','id','id','id','id','id','id','id','id','id','id','id','id','id','id','id','id'],\n",
        "#                    ['id','id','id','switch','id','id','id','id','id','id','id','id','id','id','id','id','id','id','id','id'],\n",
        "#                    ['id','id','id','id','switch','id','id','id','id','id','id','id','id','id','id','id','id','id','id','id'],\n",
        "#                    ['id','id','id','id','id','switch','id','id','id','id','id','id','id','id','id','id','id','id','id','id']], 1e5, 500, random = False)[0]\n",
        "# print(\"  \")\n",
        "\n",
        "\n",
        "# lp = solve_sum(q, [['id','id','id','id','id','id','id','id','id','id','id','id','id','id','id','id','id','id','id','id'],\n",
        "#                    ['switch','id','id','id','id','id','id','id','id','id','id','id','id','id','id','id','id','id','id','id'],\n",
        "#                    ['id','switch','id','id','id','id','id','id','id','id','id','id','id','id','id','id','id','id','id','id'],\n",
        "#                    ['id','id','switch','id','id','id','id','id','id','id','id','id','id','id','id','id','id','id','id','id'],\n",
        "#                    ['id','id','id','switch','id','id','id','id','id','id','id','id','id','id','id','id','id','id','id','id'],\n",
        "#                    ['id','id','id','id','switch','id','id','id','id','id','id','id','id','id','id','id','id','id','id','id'],\n",
        "#                    ['id','id','id','id','id','switch','id','id','id','id','id','id','id','id','id','id','id','id','id','id']], 1e5, 500, random = False)[0]\n",
        "# print(\"  \")\n",
        "\n",
        "\n",
        "# lp3 = solve_sum(q, [['id','id','id','id','id','id','id','id','id','id','id','id','id','id','id','id','id','id','id','id'],\n",
        "#                     ['switch','id','id','id','id','id','id','id','id','id','id','id','id','id','id','id','id','id','id','id'],\n",
        "#                     ['id','switch','id','id','id','id','id','id','id','id','id','id','id','id','id','id','id','id','id','id'],\n",
        "#                     ['id','id','switch','id','id','id','id','id','id','id','id','id','id','id','id','id','id','id','id','id'],\n",
        "#                     ['id','id','id','switch','id','id','id','id','id','id','id','id','id','id','id','id','id','id','id','id']], float(\"inf\"), 1500, random = True)[0]\n",
        "# print(\"  \")\n",
        "\n",
        "# lp4 = solve_sum(q, [['id','id','id','id','id','switch','id','id','id','id','id','id','id','id','id','id','id','id','id','id'],\n",
        "#                     ['switch','id','id','id','id','id','id','id','id','id','id','id','id','id','id','id','id','id','id','id'],\n",
        "#                     ['id','switch','id','id','id','id','id','id','id','id','id','id','id','id','id','id','id','id','id','id'],\n",
        "#                     ['id','id','switch','id','id','id','id','id','id','id','id','id','id','id','id','id','id','id','id','id'],\n",
        "#                     ['id','id','id','switch','id','id','id','id','id','id','id','id','id','id','id','id','id','id','id','id'],\n",
        "#                     ['id','id','id','id','switch','id','id','id','id','id','id','id','id','id','id','id','id','id','id','id']], float(\"inf\"), 1500, random = True)[0]\n",
        "# print(\"  \")\n",
        "\n",
        "# print(torch.norm(lp1-lp2), torch.norm(lp1-lp3), torch.norm(lp1-lp4), torch.norm(lp2-lp3), torch.norm(lp2-lp4), torch.norm(lp3-lp4))\n",
        "\n",
        "# lp = solve_sum(q, [['id','id','switch','id'],['switch','id','id','id'], ['id','switch','id','id'], ['id','id','id','switch']], 1e2, 1500, random = True)\n",
        "\n",
        "# print(\"  \")\n",
        "# lp = solve_sum(q, [['id','id','switch','id'],['switch','id','id','id'], ['id','switch','id','id'], ['id','id','id','switch']], 1e3, 1500, random = True)\n",
        "\n",
        "# print(\"  \")\n",
        "# lp = solve_sum(q, [['id','id','switch','id'],['switch','id','id','id'], ['id','switch','id','id'], ['id','id','id','switch']], 1e5, 1500, random = True)\n",
        "\n",
        "# print(\" \")\n",
        "# lp = solve_sum(q, [['id','id','switch','id'],['switch','id','id','id'], ['id','switch','id','id'], ['id','id','id','switch']], 1e7, 1500, random = True)\n",
        "\n",
        "\n",
        "\n",
        "# lp2 = solve(lq, ['id' for _ in range(100)], 100, random = False)\n",
        "# print(torch.norm(lp-lp2)/torch.norm(lq))\n",
        "# print(len(deterministic_oracle(lp, ['id' for _ in range(100)], 3 )))\n",
        "# print(len(deterministic_oracle(lp2, ['id' for _ in range(100)], 3 )))"
      ]
    },
    {
      "cell_type": "code",
      "execution_count": null,
      "metadata": {
        "id": "sxqD5l0Q7a8Z"
      },
      "outputs": [],
      "source": [
        "lp = solve_sum(lq, [['id','id','id','id','id','id','id','id','id','id','id','id','id','id','id','id','id','id','id','id'],\n",
        "                   ['switch','id','id','id','id','id','id','id','id','id','id','id','id','id','id','id','id','id','id','id'],\n",
        "                   ['id','switch','id','id','id','id','id','id','id','id','id','id','id','id','id','id','id','id','id','id'],\n",
        "                   ['id','id','switch','id','id','id','id','id','id','id','id','id','id','id','id','id','id','id','id','id'],\n",
        "                   ['id','id','id','switch','id','id','id','id','id','id','id','id','id','id','id','id','id','id','id','id']], 1e2, 5000, random = False)[0]\n",
        "print(q)"
      ]
    },
    {
      "cell_type": "code",
      "execution_count": null,
      "metadata": {
        "id": "YxEzJCgaVXkR"
      },
      "outputs": [],
      "source": [
        "print(deterministic_oracle(lp[0,:], ['id','id','id','id','id','id'],6, tol = -1e-6),\n",
        "      deterministic_oracle(lp[1,:], [\"switch\",'id','id','id','id','id'],6, tol = -1e-6),\n",
        "      deterministic_oracle(lp[2,:], [\"id\",'switch','id','id','id','id'],6, tol = -1e-6),\n",
        "      deterministic_oracle(lp[3,:], [\"id\",'id','switch','id','id','id'],6, tol = -1e-6),\n",
        "      deterministic_oracle(lp[4,:], [\"id\",'id','id','switch','id','id'],6, tol = -1e-6),\n",
        "      deterministic_oracle(lp[5,:], [\"id\",'id','id','id','switch','id'],6, tol = -1e-6),\n",
        "      deterministic_oracle(lp[6,:], [\"id\",'id','id','id','id','switch'],6, tol = -1e-6))\n",
        "\n"
      ]
    },
    {
      "cell_type": "code",
      "execution_count": null,
      "metadata": {
        "id": "Uz8eE3rhk1Ph"
      },
      "outputs": [],
      "source": [
        "res = lp.sum(dim=0)-q.log()\n",
        "\n",
        "print(deterministic_oracle(-res, ['id','id','id','id','id','id'],6, tol = -1e-6))\n",
        "print(deterministic_oracle(res, [\"switch\",'id','id','id','id','id'],6, tol = -1e-6))\n",
        "print(deterministic_oracle(res, [\"id\",'switch','id','id','id','id'],6, tol = -1e-6))\n",
        "print(deterministic_oracle(res, [\"id\",'id','switch','id','id','id'],6, tol = -1e-6))\n",
        "print(deterministic_oracle(res, [\"id\",'id','id','switch','id','id'],6, tol = -1e-6))\n",
        "print(deterministic_oracle(res, [\"id\",'id','id','id','switch','id'],6, tol = -1e-6))\n",
        "print(deterministic_oracle(res, [\"id\",'id','id','id','id','switch'],6, tol = -1e-6))\n",
        "\n"
      ]
    },
    {
      "cell_type": "code",
      "execution_count": null,
      "metadata": {
        "id": "3atCG3IAXs_h"
      },
      "outputs": [],
      "source": [
        "A = dict()\n",
        "A[1] = 1\n",
        "A[1] -= 1\n",
        "A[1]"
      ]
    },
    {
      "cell_type": "markdown",
      "metadata": {
        "id": "q2u6iiUvCZpu"
      },
      "source": [
        "# Optimizing a sum of sub-modular function\n",
        "\n",
        "Idea: Look at the Lovasz extension but with one inclusion flipped for that function. Optimize now a sum of convex (max of linear functions) functions. \n",
        "\n",
        "Application: ????\n",
        "\n",
        "## Compute the Lovasz extension of a set function\n",
        "\n",
        "Specifically, if $F$ is a set function on $\\{0,1\\}^n$, the Lovasz extension is a function on $[0,1]^n$ such that for $x \\in [0,1]^n$, if $i_1, \\ldots, i_n$ is the ordering such that $x_{i_1} \\ge \\ldots \\ge x_{i_n}$ and $A_{k}$ is the binary string with ones in the $i_j$th coordinate for all $j \\le k$, then\n",
        "\n",
        "\\begin{equation}\n",
        "    f(x) = \\sum_{k=1}^{n-1} F(A_{k})(x_{i_k} - x_{i_{k+1}}) - F(A_{n})w_{i_n}.\n",
        "\\end{equation}\n",
        "\n",
        "\n"
      ]
    },
    {
      "cell_type": "markdown",
      "metadata": {
        "id": "spFW97l5UKSQ"
      },
      "source": [
        "# Greedy Maximization"
      ]
    },
    {
      "cell_type": "code",
      "execution_count": null,
      "metadata": {
        "id": "LdAOPMSt_psi"
      },
      "outputs": [],
      "source": [
        "import itertools\n",
        "import random\n",
        "from tqdm import tqdm\n",
        "import torch\n",
        "import numpy as np\n",
        "\n",
        "def calc_union(S,Omega,n):\n",
        "  x = list(format(S,\"0\"+str(n)+\"b\"))\n",
        "  y = list(format(Omega,\"0\"+str(n)+\"b\"))\n",
        "  for i in range(n):\n",
        "    if x[i] == \"1\":\n",
        "      y[i] = \"1\"\n",
        "  return int(\"\".join(y),2)\n",
        "\n",
        "def rho(f,S,Omega):\n",
        "  n = int(np.log2(f.shape[0]))\n",
        "  x = calc_union(S,Omega,n)\n",
        "  val = f[x] - f[S]\n",
        "  return val\n",
        "\n",
        "def are_disjoint(S,L,n):\n",
        "  x = list(format(S,\"0\"+str(n)+\"b\"))\n",
        "  y = list(format(L,\"0\"+str(n)+\"b\"))\n",
        "  for i in range(n):\n",
        "    if x[i] == \"1\" and y[i] == \"1\":\n",
        "      return False\n",
        "  return True\n",
        "\n",
        "def calc_gamma(f, verbose = True):\n",
        "  n = int(np.log2(f.shape[0]))\n",
        "  gamma = 1\n",
        "  for S in tqdm(range(2**n), disable = not verbose):\n",
        "    for L in range(2**n):\n",
        "      if are_disjoint(S,L,n):\n",
        "        denom = rho(f, L, S)\n",
        "        x = list(format(S,\"0\"+str(n)+\"b\"))\n",
        "        y = list(format(L,\"0\"+str(n)+\"b\"))\n",
        "        num = 0\n",
        "        for i in range(n):\n",
        "          if x[i] == \"1\":\n",
        "            num += rho(f, L, L+(2**(n-1-i)))\n",
        "        if num/denom < gamma:\n",
        "          gamma = num/denom\n",
        "  return gamma\n",
        "\n",
        "def calc_alpha(f, verbose = True):\n",
        "  n = int(np.log2(f.shape[0]))\n",
        "  alpha = 1\n",
        "  for S in tqdm(range(2**n), disable = not verbose):\n",
        "    for Omega in range(2**n):\n",
        "      x = list(format(S,\"0\"+str(n)+\"b\"))\n",
        "      y = list(format(Omega,\"0\"+str(n)+\"b\"))\n",
        "      for i in range(n):\n",
        "        if x[i] == \"1\" and y[i] == \"0\":\n",
        "          denom = rho(f, S-(2**(n-1-i)), 2**(n-1-i))\n",
        "          num = rho(f, calc_union(S-(2**(n-1-i)), Omega, n), 2**(n-1-i))\n",
        "          if num/denom < alpha:\n",
        "            alpha = num/denom\n",
        "  return 1-alpha\n",
        "\n",
        "# S be a list\n",
        "# x is number corresponding to the particular restriction. \n",
        "def calc_restricted(f,S,x_string):\n",
        "  n = int(np.log2(f.shape[0]))\n",
        "  k = len(S)\n",
        "  g = torch.zeros(2**(n-k))\n",
        "  # x_string = list(format(x,\"0\"+str(n)+\"b\"))\n",
        "  for i in range(2**(n-k)):\n",
        "    i_string = list(format(i,\"0\"+str(n)+\"b\"))\n",
        "    y = list(format(0,\"0\"+str(n)+\"b\"))\n",
        "    idx = 0\n",
        "    idx_x = 0\n",
        "    for j in range(n):\n",
        "      if j in S:\n",
        "        y[j] = x_string[idx_x]\n",
        "        idx_x += 1\n",
        "      else:\n",
        "        y[j] = i_string[idx]\n",
        "        idx += 1\n",
        "    g[i] = f[int(\"\".join(y),2)]\n",
        "  return g\n",
        "\n",
        "def calc_alpha_restricted(f,k):\n",
        "  n = int(np.log2(f.shape[0]))\n",
        "  idxs = list(itertools.combinations(list(range(n)), k))\n",
        "  min_alpha = 0\n",
        "  for index_set in tqdm(idxs):\n",
        "    max_alpha = 0\n",
        "    for vals in range(2**k):\n",
        "      pattern = list(format(vals,\"0\"+str(k)+\"b\"))\n",
        "      # S = list(format(0,\"0\"+str(n)+\"b\"))\n",
        "      # for i,j in enumerate(index_set):\n",
        "      #   S[j] = pattern[i] \n",
        "      # x = int(\"\".join(S),2)\n",
        "      g = calc_restricted(f, index_set, pattern)\n",
        "      # print(index_set, x, g, g.shape)\n",
        "      alpha = calc_alpha(g, False)\n",
        "      if alpha > max_alpha:\n",
        "        max_alpha = alpha\n",
        "    if min_alpha < max_alpha:\n",
        "      min_alpha = max_alpha\n",
        "  return min_alpha\n",
        "\n",
        "def calc_gamma_restricted(f,k):\n",
        "  n = int(np.log2(f.shape[0]))\n",
        "  idxs = list(itertools.combinations(list(range(n)), k))\n",
        "  max_gamma = 1\n",
        "  for index_set in tqdm(idxs):\n",
        "    min_gamma = 1\n",
        "    for vals in range(2**k):\n",
        "      pattern = list(format(vals,\"0\"+str(k)+\"b\"))\n",
        "      # S = list(format(0,\"0\"+str(n)+\"b\"))\n",
        "      # for i,j in enumerate(index_set):\n",
        "      #   S[j] = pattern[i] \n",
        "      # x = int(\"\".join(S),2)\n",
        "      g = calc_restricted(f, index_set, pattern)\n",
        "      # print(g, g.shape)\n",
        "      gamma = calc_gamma(g, False)\n",
        "      if gamma < min_gamma:\n",
        "        min_gamma = gamma\n",
        "    if min_gamma < max_gamma:\n",
        "      max_gamma = min_gamma\n",
        "    \n",
        "  return max_gamma\n",
        "  \n",
        "def discrete_gradient(f,x,n,exclude = []):\n",
        "  S = list(format(x,\"0\"+str(n)+\"b\"))\n",
        "  max_val = -1*float(\"inf\")\n",
        "  max_index = -1\n",
        "  for i in range(n):\n",
        "    if i not in exclude:\n",
        "      if S[i] == \"0\":\n",
        "        S_new = S.copy()\n",
        "        S_new[i] = \"1\"\n",
        "        x_new = int(\"\".join(S_new),2)\n",
        "        if f(x_new) > max_val:\n",
        "          max_val = f(x_new)\n",
        "          max_index = x_new\n",
        "  \n",
        "  return max_val, max_index\n",
        "\n",
        "def check_monotone(f):\n",
        "  n = int(np.log2(f.shape[0]))\n",
        "  for x in range(2**n):\n",
        "    S = list(format(x,\"0\"+str(n)+\"b\"))\n",
        "    for i in range(n):\n",
        "      if S[i] == \"0\":\n",
        "        T = list(format(0,\"0\"+str(n)+\"b\"))\n",
        "        T[i] = \"1\"\n",
        "        y = int(\"\".join(T),2)\n",
        "        if rho(f,x,y) < 0:\n",
        "          return False\n",
        "  return True\n",
        "\n",
        "def greedy_size_constraint(f, x, M, n, exclude = []):\n",
        "  for i in range(M):\n",
        "    _, x = discrete_gradient(f,x,n,exclude)\n",
        "    # print(x,f[x])\n",
        "  \n",
        "  return x, f(x)\n",
        "\n",
        "def make_order(n,k = None):\n",
        "  if k == None:\n",
        "    k = n\n",
        "\n",
        "  order = torch.zeros(2**n, dtype = torch.long)\n",
        "\n",
        "  idx = 0\n",
        "  order[idx] = 0\n",
        "  idx += 1\n",
        "  for i in range(1,k+1):\n",
        "    idxs = list(itertools.combinations(list(range(n)), i))\n",
        "    random.shuffle(idxs)\n",
        "    for index_set in idxs:\n",
        "      S = list(format(0,\"0\"+str(n)+\"b\"))\n",
        "      for j in index_set:\n",
        "        S[j] = \"1\"\n",
        "      x = int(\"\".join(S),2)\n",
        "      order[idx] = x\n",
        "      idx += 1\n",
        "\n",
        "  return order[:idx]\n",
        "\n",
        "def make_monotone(f):\n",
        "  n = int(np.log2(f.shape[0]))\n",
        "  g = torch.zeros_like(f)\n",
        "  p = torch.sort(f).values\n",
        "  order = make_order(n)\n",
        "\n",
        "  for i in range(2**n):\n",
        "    g[order[i]] = p[i]\n",
        "\n",
        "  g -= g[0] - 1\n",
        "  \n",
        "  return g \n",
        "\n",
        "def more_compute_greedy_constrained(f,M,k,n):\n",
        "  max_val = -1*float(\"inf\")\n",
        "  max_index = -1\n",
        "\n",
        "  idxs = list(itertools.combinations(list(range(n)), k))\n",
        "  for index_set in idxs:\n",
        "    pattern = list(format(2**k-1,\"0\"+str(k)+\"b\"))\n",
        "    S = list(format(0,\"0\"+str(n)+\"b\"))\n",
        "    count = 0\n",
        "    # print(vals, pattern)\n",
        "    for i,j in enumerate(index_set):\n",
        "      S[j] = pattern[i] \n",
        "      if pattern[i] == \"1\":\n",
        "        count += 1\n",
        "    x = int(\"\".join(S),2)\n",
        "    # print(x)\n",
        "\n",
        "    max_index_new, max_val_new = greedy_size_constraint(f,x,M-k,n,index_set)\n",
        "    if max_val_new > max_val:\n",
        "      max_val = max_val_new\n",
        "      max_index = max_index_new\n",
        "\n",
        "  return max_val, max_index\n",
        "\n",
        "def modified_greedy_constrained(f,M,k,n):\n",
        "  max_val = -1*float(\"inf\")\n",
        "  max_index = -1\n",
        "\n",
        "  idxs = list(itertools.combinations(list(range(n)), k))\n",
        "  for index_set in idxs:\n",
        "    # print(index_set)\n",
        "    for vals in range(2**k):\n",
        "      pattern = list(format(vals,\"0\"+str(k)+\"b\"))\n",
        "      S = list(format(0,\"0\"+str(n)+\"b\"))\n",
        "      count = 0\n",
        "      # print(vals, pattern)\n",
        "      for i,j in enumerate(index_set):\n",
        "        S[j] = pattern[i] \n",
        "        if pattern[i] == \"1\":\n",
        "          count += 1\n",
        "      x = int(\"\".join(S),2)\n",
        "      # print(x)\n",
        "\n",
        "      max_index_new, max_val_new = greedy_size_constraint(f,x,M-count,n,index_set)\n",
        "      if max_val_new > max_val:\n",
        "        max_val = max_val_new\n",
        "        max_index = max_index_new\n",
        "\n",
        "  return max_val, max_index\n",
        "\n",
        "def column_subset_problem(m,n, M):\n",
        "  A = torch.rand(m,n)\n",
        "  f = torch.zeros(2**n)\n",
        "  order = make_order(n,M)\n",
        "\n",
        "  for i in order:\n",
        "    S = format(i,\"0\"+str(n)+\"b\")\n",
        "    indexes = torch.zeros(n, dtype = torch.long)\n",
        "    idx = 0\n",
        "    for j in range(n):\n",
        "      if S[j] == \"1\":\n",
        "        indexes[idx] = j\n",
        "        idx += 1\n",
        "    indexes = indexes[:idx]\n",
        "    A_S = A[:,indexes]\n",
        "    P = A_S.mm(torch.linalg.pinv(A_S))\n",
        "    B = P.mm(A)\n",
        "    f[i] = A.square().sum() - B.square().sum()\n",
        "\n",
        "  f *= -1\n",
        "  f -= f[0].item()\n",
        "\n",
        "  return f\n",
        "\n",
        "def column_subset_problem_f(i):\n",
        "  S = format(i,\"0\"+str(n)+\"b\")\n",
        "  indexes = torch.zeros(n, dtype = torch.long)\n",
        "  idx = 0\n",
        "  for j in range(n):\n",
        "    if S[j] == \"1\":\n",
        "      indexes[idx] = j\n",
        "      idx += 1\n",
        "  indexes = indexes[:idx]\n",
        "\n",
        "  A_S = A[:,indexes]\n",
        "  P = A_S.mm(torch.linalg.pinv(A_S))\n",
        "  B = P.mm(A)\n",
        "  return B.square().sum()\n",
        "\n",
        "def bayesian_A_optimality(X, beta, sigma, M):\n",
        "  d,n = X.shape\n",
        "\n",
        "  Lambda = torch.eye(d)*beta*beta\n",
        "  f = torch.zeros(2**n)\n",
        "  order = make_order(n,M)\n",
        "\n",
        "  for i in order:\n",
        "    S = format(i,\"0\"+str(n)+\"b\")\n",
        "    indexes = torch.zeros(n, dtype = torch.long)\n",
        "    idx = 0\n",
        "    for j in range(n):\n",
        "      if S[j] == \"1\":\n",
        "        indexes[idx] = j\n",
        "        idx += 1\n",
        "    indexes = indexes[:idx]\n",
        "    X_S = X[:,indexes]\n",
        "    \n",
        "    f[i] = torch.trace(torch.linalg.inv(Lambda)) - torch.trace(torch.linalg.inv(Lambda + X_S.mm(X_S.t())/(sigma*sigma)))\n",
        "\n",
        "  return f\n",
        "\n",
        "def bayesian_A_optimality_f(i):\n",
        "  d,n = X.shape\n",
        "\n",
        "  Lambda = torch.eye(d)*beta\n",
        "  theta = torch.randn(d)/beta\n",
        "\n",
        "  S = format(i,\"0\"+str(n)+\"b\")\n",
        "  indexes = torch.zeros(n, dtype = torch.long)\n",
        "  idx = 0\n",
        "  for j in range(n):\n",
        "    if S[j] == \"1\":\n",
        "      indexes[idx] = j\n",
        "      idx += 1\n",
        "  indexes = indexes[:idx]\n",
        "  X_S = X[:,indexes]\n",
        "  \n",
        "  return d/(beta*beta) - torch.trace(torch.linalg.inv(Lambda + X_S.mm(X_S.t())/(sigma*sigma)))\n",
        "\n",
        "def determinantal_f(i):\n",
        "  n,n = Sigma.shape\n",
        "\n",
        "  S = format(i,\"0\"+str(n)+\"b\")\n",
        "  indexes = torch.zeros(n, dtype = torch.long)\n",
        "  idx = 0\n",
        "  for j in range(n):\n",
        "    if S[j] == \"1\":\n",
        "      indexes[idx] = j\n",
        "      idx += 1\n",
        "  indexes = indexes[:idx]\n",
        "  Sigma_S = Sigma[:,indexes]/sigma\n",
        "  Sigma_SS = Sigma_S[indexes,:]/sigma\n",
        "    \n",
        "  return torch.linalg.det(torch.eye(len(indexes)) + Sigma_SS)\n",
        "\n",
        "def determinantal(Sigma, sigma, M):\n",
        "  n,n = Sigma.shape\n",
        "\n",
        "  f = torch.zeros(2**n)\n",
        "  order = make_order(n,M)\n",
        "\n",
        "  for i in order:\n",
        "    S = format(i,\"0\"+str(n)+\"b\")\n",
        "    indexes = torch.zeros(n, dtype = torch.long)\n",
        "    idx = 0\n",
        "    for j in range(n):\n",
        "      if S[j] == \"1\":\n",
        "        indexes[idx] = j\n",
        "        idx += 1\n",
        "    indexes = indexes[:idx]\n",
        "    Sigma_S = Sigma[:,indexes]/sigma\n",
        "    Sigma_SS = Sigma_S[indexes,:]/sigma\n",
        "    \n",
        "    f[i] = torch.linalg.det(torch.eye(len(indexes)) + Sigma_SS)\n",
        "  return f"
      ]
    },
    {
      "cell_type": "code",
      "execution_count": null,
      "metadata": {
        "colab": {
          "base_uri": "https://localhost:8080/"
        },
        "id": "0S7BcUeREjXd",
        "outputId": "b21febef-bf3e-4d2c-c550-940ed73e5b32"
      },
      "outputs": [
        {
          "name": "stdout",
          "output_type": "stream",
          "text": [
            "Mounted at /content/drive\n"
          ]
        }
      ],
      "source": [
        "from google.colab import drive\n",
        "drive.mount('/content/drive')"
      ]
    },
    {
      "cell_type": "code",
      "execution_count": null,
      "metadata": {
        "id": "U3TdjKWj8hQj"
      },
      "outputs": [],
      "source": [
        "gammas_col = torch.load(\"drive/MyDrive/JIM/gamma-ks-minmax-column-8.pt\")\n",
        "gammas_rand = torch.load(\"drive/MyDrive/JIM/gamma-ks-minmax-random-8.pt\")\n",
        "gammas_det = torch.load(\"drive/MyDrive/JIM/gamma-ks-minmax-determinantal-8.pt\")\n",
        "gammas_bayesian = torch.load(\"drive/MyDrive/JIM/gamma-ks-minmax-bayesian-8.pt\")\n",
        "\n",
        "alphas_col = torch.load(\"drive/MyDrive/JIM/alpha-ks-minmax-column-8.pt\")\n",
        "alphas_rand = torch.load(\"drive/MyDrive/JIM/alpha-ks-minmax-random-8.pt\")\n",
        "alphas_det = torch.zeros_like(alphas_col) #torch.load(\"drive/MyDrive/JIM/alpha-ks-minmax-determinantal-8.pt\")\n",
        "alphas_bayesian = torch.load(\"drive/MyDrive/JIM/alpha-ks-minmax-bayesian-8.pt\")"
      ]
    },
    {
      "cell_type": "code",
      "execution_count": null,
      "metadata": {
        "id": "wFYhaTko8rXn"
      },
      "outputs": [],
      "source": [
        "def bound(alpha,gamma):\n",
        "  return (1-(-1*alpha*gamma).exp())/alpha\n",
        "\n",
        "def bound_deter(gamma):\n",
        "  return (1-(-1*gamma).exp())"
      ]
    },
    {
      "cell_type": "code",
      "execution_count": null,
      "metadata": {
        "id": "LeGbfT9w86i6"
      },
      "outputs": [],
      "source": [
        "bound_col = bound(alphas_col,gammas_col)\n",
        "bound_det = bound_deter(gammas_det)\n",
        "bound_rand = bound(alphas_rand,gammas_rand)\n",
        "bound_bay = bound(alphas_bayesian,gammas_bayesian)"
      ]
    },
    {
      "cell_type": "code",
      "execution_count": null,
      "metadata": {
        "colab": {
          "base_uri": "https://localhost:8080/",
          "height": 438
        },
        "id": "bLKJ5Gpc94PI",
        "outputId": "ed2bb44f-5530-4247-9687-ca871f252b99"
      },
      "outputs": [
        {
          "data": {
            "image/png": "[encoded data removed]",
            "text/plain": [
              "<Figure size 640x480 with 1 Axes>"
            ]
          },
          "metadata": {},
          "output_type": "display_data"
        }
      ],
      "source": [
        "plt.scatter([0,1,2,3,4], bound_col, label = \"Column Subset\")\n",
        "plt.plot([0,1,2,3,4], bound_col, label = \"Column Subset\")\n",
        "plt.scatter([0,1,2,3,4], bound_det, label = \"Determinantal\")\n",
        "plt.scatter([0,1,2,3,4], bound_rand, label = \"Random\")\n",
        "plt.scatter([0,1,2,3,4], bound_bay, label = \"Bayesian\")\n",
        "plt.yscale(\"log\")\n",
        "plt.legend()\n",
        "plt.xticks([0,1,2,3,4])\n",
        "plt.yticks([0.1,0.2,0.3,0.4,0.5,0.6,0.7,0.8,0.9,1])\n",
        "plt.grid(axis='y')"
      ]
    },
    {
      "cell_type": "code",
      "execution_count": null,
      "metadata": {
        "colab": {
          "base_uri": "https://localhost:8080/",
          "height": 459
        },
        "id": "97VukBV99QrH",
        "outputId": "657e18af-91e7-4cdc-a899-a74c9fb6c472"
      },
      "outputs": [
        {
          "data": {
            "image/png": "[encoded data removed]",
            "text/plain": [
              "<Figure size 640x480 with 1 Axes>"
            ]
          },
          "metadata": {},
          "output_type": "display_data"
        }
      ],
      "source": [
        "plt.errorbar([0,1,2,3,4], gammas_col[0,:,:].mean(dim=0), yerr = gammas_col[0,:,:].std(dim=0), label = \"Column Subset\")\n",
        "plt.errorbar([0,1,2,3,4], gammas_det[0,:,:].mean(dim=0), yerr = gammas_det[0,:,:].std(dim=0),label = \"Determinantal\")\n",
        "plt.errorbar([0,1,2,3,4], gammas_rand[0,:,:].mean(dim=0), yerr = gammas_rand[0,:,:].std(dim=0),label = \"Random\")\n",
        "plt.errorbar([0,1,2,3,4], gammas_bayesian[0,:,:].mean(dim=0), yerr = gammas_bayesian[0,:,:].std(dim=0),label = \"Bayesian\")\n",
        "\n",
        "# plt.scatter([0,1,2,3,4], gammas_col[0,:,:].mean(dim=0), c = \"b\", label = \"Column Subset\", marker = \"v\")\n",
        "# # plt.axhline(y = alphas_col[0,:,0].mean(), label = \"Column Subset\")\n",
        "# plt.scatter([0,1,2,3,4], alphas_det[0,:,:].mean(dim=0), color = \"orange\", label = \"Determinantal\", marker = \"v\")\n",
        "# # plt.axhline(y = alphas_det[0,:,0].mean(), color = \"orange\", label = \"Determinantal\")\n",
        "# plt.scatter([0,1,2,3,4], alphas_rand[0,:,:].mean(dim=0), c = \"g\", label = \"Random\", marker = \"v\")\n",
        "# # plt.axhline(y = alphas_rand[0,:,0].mean(), color = \"g\", label = \"Random\")\n",
        "# plt.scatter([0,1,2,3,4], alphas_bayesian[0,:,:].mean(dim=0), c = \"r\", label = \"Bayesian\", marker = \"v\")\n",
        "# # plt.axhline(y = alphas_bayesian[0,:,0].mean(), color = \"r\", label = \"Bayesian\")\n",
        "# plt.yscale(\"log\")\n",
        "plt.legend(fontsize=14)\n",
        "plt.xlabel(\"\")\n",
        "plt.xticks([0,1,2,3,4])\n",
        "plt.grid(axis='y')\n",
        "plt.xlabel(\"Log Number of Pieces\", fontsize=18)\n",
        "plt.ylabel(r\"$\\gamma_r$\", fontsize=18)\n",
        "plt.savefig(\"gamma-k.pdf\", dpi = 300, facecolor = \"white\", bbox_inches=\"tight\")"
      ]
    },
    {
      "cell_type": "code",
      "execution_count": null,
      "metadata": {
        "id": "n6Ef6hsCQoTe"
      },
      "outputs": [],
      "source": [
        "alphas_col = torch.load(\"drive/MyDrive/JIM/alpha-ks-column-8.pt\")\n",
        "alphas_rand = torch.load(\"drive/MyDrive/JIM/alpha-ks-random-8.pt\")\n",
        "alphas_det = torch.zeros_like(alphas_col) #torch.load(\"drive/MyDrive/JIM/alpha-ks-determinantal-8.pt\")\n",
        "alphas_bayesian = torch.load(\"drive/MyDrive/JIM/alpha-ks-bayesian-8.pt\")\n",
        "\n",
        "# gammas"
      ]
    },
    {
      "cell_type": "code",
      "execution_count": null,
      "metadata": {
        "id": "Sh_rosMmRI0R"
      },
      "outputs": [],
      "source": [
        "plt.scatter([1,2,3,4], alphas_col[0,:,:4].mean(dim=0), label = \"Column Subset\")\n",
        "plt.axhline(y = alphas_col[0,:,0].mean(), label = \"Column Subset\")\n",
        "plt.scatter([1,2,3,4], alphas_det[0,:,:4].mean(dim=0), label = \"Determinantal\")\n",
        "plt.axhline(y = alphas_det[0,:,0].mean(), color = \"orange\", label = \"Determinantal\")\n",
        "plt.scatter([1,2,3,4], alphas_rand[0,:,:4].mean(dim=0), label = \"Random\")\n",
        "plt.axhline(y = alphas_rand[0,:,0].mean(), color = \"g\", label = \"Random\")\n",
        "plt.scatter([1,2,3,4], alphas_bayesian[0,:,:4].mean(dim=0), label = \"Bayesian\")\n",
        "plt.axhline(y = alphas_bayesian[0,:,0].mean(), color = \"r\", label = \"Bayesian\")\n",
        "plt.xlabel(\"Rank\", fontsize = 16)\n",
        "plt.ylabel(r\"$\\alpha$\", fontsize = 16)\n",
        "plt.legend()\n",
        "# plt.title(\"Column Function\", fontsize = 16)"
      ]
    },
    {
      "cell_type": "code",
      "execution_count": null,
      "metadata": {
        "id": "I3zWv9RWU3ms"
      },
      "outputs": [],
      "source": [
        "n = 8\n",
        "r = 4\n",
        "f = make_monotone(torch.randn(2**n))\n",
        "fr = calc_low_rank_approx(f,r, sub = True)[1]\n",
        "print(torch.norm(f-fr)/torch.norm(f))"
      ]
    },
    {
      "cell_type": "code",
      "execution_count": null,
      "metadata": {
        "id": "dho81DDRV-IG"
      },
      "outputs": [],
      "source": [
        "print(torch.norm(f-fr)/torch.norm(f))"
      ]
    },
    {
      "cell_type": "code",
      "execution_count": null,
      "metadata": {
        "id": "508GZ9FTDw9U"
      },
      "outputs": [],
      "source": [
        "alphas = torch.zeros(8,5,8)\n",
        "\n",
        "for n in range(8,10):\n",
        "  for iter in range(5):\n",
        "    X = torch.rand(n,n)\n",
        "    Sigma = X.mm(X.t())\n",
        "    sigma = 1\n",
        "    f = determinantal(X.mm(X.t()), sigma)\n",
        "\n",
        "    alphas[n-8,iter,0] = calc_alpha(f)\n",
        "\n",
        "    for k in range(1,6):\n",
        "      alphas[n-8,iter,k] = calc_alpha_restricted(f,k)\n",
        "    \n",
        "    print(alphas[n-8,iter,:])\n",
        "\n",
        "  torch.save(alphas,\"drive/MyDrive/JIM/alphas-determinantal-\"+str(n)+\".pt\")\n"
      ]
    },
    {
      "cell_type": "code",
      "execution_count": null,
      "metadata": {
        "id": "lAUWW_kLa9mF"
      },
      "outputs": [],
      "source": [
        "gammas = torch.zeros(1,5,5)\n",
        "\n",
        "for n in range(8,9):\n",
        "  for iter in range(5):\n",
        "    X = torch.randn(60,n)\n",
        "    beta = 0.1\n",
        "    sigma = 0.1\n",
        "    f = bayesian_A_optimality(X,beta,sigma,n)\n",
        "\n",
        "    gammas[n-8,iter,0] = calc_gamma(f)\n",
        "\n",
        "    for k in range(1,5):\n",
        "      gammas[n-8,iter,k] = calc_gamma_restricted(f,k)\n",
        "    \n",
        "    print(gammas[n-8,iter,:])\n",
        "\n",
        "  torch.save(gammas,\"drive/MyDrive/JIM/gamma-ks-bayesian-\"+str(n)+\".pt\")"
      ]
    },
    {
      "cell_type": "code",
      "execution_count": null,
      "metadata": {
        "id": "8g_P2INYbMN4"
      },
      "outputs": [],
      "source": [
        "gammas = torch.zeros(1,5,5)\n",
        "\n",
        "for n in range(8,9):\n",
        "  for iter in range(5):\n",
        "    X = torch.rand(n,n)\n",
        "    Sigma = X.mm(X.t())\n",
        "    sigma = 1\n",
        "    f = determinantal(X.mm(X.t()), sigma,n)\n",
        "\n",
        "    gammas[n-8,iter,0] = calc_gamma(f)\n",
        "\n",
        "    for k in range(1,5):\n",
        "      gammas[n-8,iter,k] = calc_gamma_restricted(f,k)\n",
        "    \n",
        "    print(gammas[n-8,iter,:])\n",
        "\n",
        "  torch.save(gammas,\"drive/MyDrive/JIM/gamma-ks-determinantal-\"+str(n)+\".pt\")"
      ]
    },
    {
      "cell_type": "code",
      "execution_count": null,
      "metadata": {
        "id": "syg9d5vXbVnL"
      },
      "outputs": [],
      "source": [
        "gammas = torch.zeros(1,5,5)\n",
        "\n",
        "for n in range(8,9):\n",
        "  for iter in range(5):\n",
        "    f = make_monotone(torch.rand(2**n))\n",
        "\n",
        "    gammas[n-8,iter,0] = calc_gamma(f)\n",
        "\n",
        "    for k in range(1,5):\n",
        "      gammas[n-8,iter,k] = calc_gamma_restricted(f,k)\n",
        "    \n",
        "    print(gammas[n-8,iter,:])\n",
        "\n",
        "  torch.save(gammas,\"drive/MyDrive/JIM/gamma-ks-random-\"+str(n)+\".pt\")"
      ]
    },
    {
      "cell_type": "code",
      "execution_count": null,
      "metadata": {
        "id": "zFdheTSCbdJ6"
      },
      "outputs": [],
      "source": [
        "gammas = torch.zeros(1,5,5)\n",
        "\n",
        "for n in range(8,9):\n",
        "  for iter in range(5):\n",
        "    f = column_subset_problem(20,n,n)\n",
        "\n",
        "    gammas[n-8,iter,0] = calc_gamma(f)\n",
        "\n",
        "    for k in range(1,5):\n",
        "      gammas[n-8,iter,k] = calc_gamma_restricted(f,k)\n",
        "    \n",
        "    print(gammas[n-8,iter,:])\n",
        "\n",
        "  torch.save(gammas,\"drive/MyDrive/JIM/gamma-ks-column-\"+str(n)+\".pt\")"
      ]
    },
    {
      "cell_type": "code",
      "execution_count": null,
      "metadata": {
        "id": "Galb0ihbFJdq"
      },
      "outputs": [],
      "source": [
        "alphas = torch.zeros(1,5,5)\n",
        "\n",
        "for n in range(8,9):\n",
        "  for iter in range(5):\n",
        "    X = torch.randn(60,n)\n",
        "    beta = 0.1\n",
        "    sigma = 0.1\n",
        "    f = bayesian_A_optimality(X,beta,sigma,n)\n",
        "\n",
        "    alphas[n-8,iter,0] = calc_alpha(f)\n",
        "\n",
        "    for k in range(1,5):\n",
        "      alphas[n-8,iter,k] = calc_alpha_restricted(f,k)\n",
        "    \n",
        "    print(alphas[n-8,iter,:])\n",
        "\n",
        "  torch.save(alphas,\"drive/MyDrive/JIM/alpha-ks-bayesian-\"+str(n)+\".pt\")"
      ]
    },
    {
      "cell_type": "code",
      "execution_count": null,
      "metadata": {
        "id": "5rVbGXaMFV2n"
      },
      "outputs": [],
      "source": [
        "alphas = torch.zeros(1,5,5)\n",
        "\n",
        "for n in range(8,9):\n",
        "  for iter in range(5):\n",
        "    f = column_subset_problem(20,n,n)\n",
        "\n",
        "    alphas[n-8,iter,0] = calc_alpha(f)\n",
        "\n",
        "    for k in range(1,5):\n",
        "      alphas[n-8,iter,k] = calc_alpha_restricted(f,k)\n",
        "    \n",
        "    print(alphas[n-8,iter,:])\n",
        "\n",
        "  torch.save(alphas,\"drive/MyDrive/JIM/alpha-ks-column-\"+str(n)+\".pt\")"
      ]
    },
    {
      "cell_type": "code",
      "execution_count": null,
      "metadata": {
        "id": "XMgMYhySFcX9"
      },
      "outputs": [],
      "source": [
        "alphas = torch.zeros(1,5,5)\n",
        "\n",
        "for n in range(8,9):\n",
        "  for iter in range(5):\n",
        "    f = make_monotone(torch.randn(2**n))\n",
        "\n",
        "    alphas[n-8,iter,0] = calc_alpha(f)\n",
        "\n",
        "    for k in range(1,5):\n",
        "      alphas[n-8,iter,k] = calc_alpha_restricted(f,k)\n",
        "    \n",
        "    print(alphas[n-8,iter,:])\n",
        "\n",
        "  torch.save(alphas,\"drive/MyDrive/JIM/alpha-ks-random-\"+str(n)+\".pt\")"
      ]
    },
    {
      "cell_type": "code",
      "execution_count": null,
      "metadata": {
        "id": "gia9LPzDehWx"
      },
      "outputs": [],
      "source": [
        "optimal, greedy, low_rank_greedy, split_greedy, low_rank_split_greedy = torch.load(\"drive/MyDrive/JIM/column/results-9.pt\")"
      ]
    },
    {
      "cell_type": "code",
      "execution_count": null,
      "metadata": {
        "id": "yIVFX2mUf05H"
      },
      "outputs": [],
      "source": [
        "greedy[1,:]"
      ]
    },
    {
      "cell_type": "code",
      "execution_count": null,
      "metadata": {
        "id": "7oZL07CDfWfr"
      },
      "outputs": [],
      "source": [
        "datanames = [\"determinantal\", \"bayesian\", \"random\", \"column\"]\n",
        "\n",
        "greedy_opt = torch.zeros(4)\n",
        "greedy_low_rank_improve = torch.zeros(4,6)\n",
        "greedy_low_rank_opt = torch.zeros(4,6)\n",
        "\n",
        "split_1_greedy_opt = torch.zeros(4)\n",
        "split_1_greedy_low_rank_improve = torch.zeros(4,6)\n",
        "split_1_greedy_low_rank_opt = torch.zeros(4,6)\n",
        "\n",
        "split_2_greedy_opt = torch.zeros(4)\n",
        "split_2_greedy_low_rank_improve = torch.zeros(4,6)\n",
        "split_2_greedy_low_rank_opt = torch.zeros(4,6)\n",
        "\n",
        "split_3_greedy_opt = torch.zeros(4)\n",
        "split_3_greedy_low_rank_improve = torch.zeros(4,6)\n",
        "split_3_greedy_low_rank_opt = torch.zeros(4,6)\n",
        "\n",
        "idx = 1\n",
        "T = 10\n",
        "\n",
        "for i,name in enumerate(datanames):\n",
        "  optimal, greedy, low_rank_greedy, split_greedy, low_rank_split_greedy = torch.load(\"drive/MyDrive/JIM/\"+name+\"/results-9.pt\")\n",
        "\n",
        "  greedy_opt[i] = (optimal[idx,-1,:] == greedy[idx,:]).sum()/T\n",
        "  split_1_greedy_opt[i] = (optimal[idx,-1,:] == split_greedy[idx,0,:]).sum()/T\n",
        "  split_2_greedy_opt[i] = (optimal[idx,-1,:] == split_greedy[idx,1,:]).sum()/T\n",
        "  split_3_greedy_opt[i] = (optimal[idx,-1,:] == split_greedy[idx,2,:]).sum()/T\n",
        "\n",
        "  for j in range(6):\n",
        "    greedy_low_rank_opt[i,j] = (optimal[idx,-1,:] == low_rank_greedy[idx,j,:]).sum()/T\n",
        "    split_1_greedy_low_rank_opt[i,j] = (optimal[idx,-1,:] == low_rank_split_greedy[idx,j,0,:]).sum()/T\n",
        "    split_2_greedy_low_rank_opt[i,j] = (optimal[idx,-1,:] == low_rank_split_greedy[idx,j,1,:]).sum()/T\n",
        "    split_3_greedy_low_rank_opt[i,j] = (optimal[idx,-1,:] == low_rank_split_greedy[idx,j,2,:]).sum()/T\n",
        "\n",
        "    greedy_low_rank_improve[i,j] = (greedy[idx,:] / low_rank_greedy[idx,j,:]).sum()/T\n",
        "    split_1_greedy_low_rank_improve[i,j] = (split_greedy[idx,0,:] / low_rank_split_greedy[idx,j,0,:]).sum()/T\n",
        "    split_2_greedy_low_rank_improve[i,j] = (split_greedy[idx,1,:] / low_rank_split_greedy[idx,j,1,:]).sum()/T\n",
        "    split_3_greedy_low_rank_improve[i,j] = (split_greedy[idx,2,:] / low_rank_split_greedy[idx,j,2,:]).sum()/T\n",
        "\n"
      ]
    },
    {
      "cell_type": "code",
      "execution_count": null,
      "metadata": {
        "id": "X_yE-ER_nRtC"
      },
      "outputs": [],
      "source": [
        "N = 3\n",
        "plt.scatter(range(6),greedy_low_rank_improve[N,:], label = \"Greedy\", color = \"r\")\n",
        "plt.scatter(range(6),split_1_greedy_low_rank_improve[N,:], label = \"1 Split Greedy\", color = \"g\")\n",
        "plt.scatter(range(6),split_2_greedy_low_rank_improve[N,:], label = \"2 Split Greedy\", color = \"b\")\n",
        "plt.scatter(range(6),split_3_greedy_low_rank_improve[N,:], label = \"3 Split Greedy\", color = \"orange\")\n",
        "plt.xlabel(\"Rank\")\n",
        "plt.ylabel(\"ratio of original to approx\")\n",
        "plt.title(datanames[N])\n",
        "plt.legend()"
      ]
    },
    {
      "cell_type": "code",
      "execution_count": null,
      "metadata": {
        "id": "GgwE-OdemvLC"
      },
      "outputs": [],
      "source": [
        "barWidth = 0.20\n",
        "fig = plt.subplots(figsize =(12, 8))\n",
        "\n",
        "\n",
        "br1 = np.arange(4)\n",
        "br2 = [x + barWidth for x in br1]\n",
        "br3 = [x + barWidth for x in br2]\n",
        "br4 = [x + barWidth for x in br3]\n",
        "\n",
        "r = 5\n",
        "\n",
        "plt.bar(br1, greedy_low_rank_opt[:,r], color ='r', width = barWidth,\n",
        "        edgecolor ='grey', label ='Greedy')\n",
        "plt.bar(br2, split_1_greedy_low_rank_opt[:,r], color ='g', width = barWidth,\n",
        "        edgecolor ='grey', label ='1 Split Greedy')\n",
        "plt.bar(br3, split_2_greedy_low_rank_opt[:,r], color ='b', width = barWidth,\n",
        "        edgecolor ='grey', label ='2 Split Greedy')\n",
        "plt.bar(br4, split_3_greedy_low_rank_opt[:,r], color ='orange', width = barWidth,\n",
        "        edgecolor ='grey', label ='3 Split Greedy')\n",
        "\n",
        "plt.xlabel('Datasets. Here n = 9, rank '+str(r), fontweight ='bold', fontsize = 15)\n",
        "plt.ylabel('Percentage of Times Optimal is Found', fontweight ='bold', fontsize = 15)\n",
        "plt.xticks([r + barWidth for r in range(4)],\n",
        "        ['Determinantal', 'Bayesian', 'Random', 'Column'])\n",
        " \n",
        "plt.legend()\n",
        "plt.show()"
      ]
    },
    {
      "cell_type": "code",
      "execution_count": null,
      "metadata": {
        "id": "hh75J2gumipw"
      },
      "outputs": [],
      "source": [
        "barWidth = 0.20\n",
        "fig = plt.subplots(figsize =(12, 8))\n",
        "\n",
        "\n",
        "br1 = np.arange(4)\n",
        "br2 = [x + barWidth for x in br1]\n",
        "br3 = [x + barWidth for x in br2]\n",
        "br4 = [x + barWidth for x in br3]\n",
        "\n",
        "plt.bar(br1, greedy_opt, color ='r', width = barWidth,\n",
        "        edgecolor ='grey', label ='Greedy')\n",
        "plt.bar(br2, split_1_greedy_opt, color ='g', width = barWidth,\n",
        "        edgecolor ='grey', label ='1 Split Greedy')\n",
        "plt.bar(br3, split_2_greedy_opt, color ='b', width = barWidth,\n",
        "        edgecolor ='grey', label ='2 Split Greedy')\n",
        "plt.bar(br4, split_3_greedy_opt, color ='orange', width = barWidth,\n",
        "        edgecolor ='grey', label ='3 Split Greedy')\n",
        "\n",
        "plt.xlabel('Datasets. Here n = 9', fontweight ='bold', fontsize = 15)\n",
        "plt.ylabel('Percentage of Times Optimal is Found', fontweight ='bold', fontsize = 15)\n",
        "plt.xticks([r + barWidth for r in range(4)],\n",
        "        ['Determinantal', 'Bayesian', 'Random', 'Column'])\n",
        " \n",
        "plt.legend()\n",
        "plt.show()"
      ]
    },
    {
      "cell_type": "code",
      "execution_count": null,
      "metadata": {
        "id": "1rJdyhCehJDs"
      },
      "outputs": [],
      "source": [
        "barWidth = 0.20\n",
        "fig = plt.subplots(figsize =(12, 8))\n",
        "\n",
        "\n",
        "br1 = np.arange(4)\n",
        "br2 = [x + barWidth for x in br1]\n",
        "br3 = [x + barWidth for x in br2]\n",
        "br4 = [x + barWidth for x in br3]\n",
        "\n",
        "plt.bar(br1, greedy_percentage, color ='r', width = barWidth,\n",
        "        edgecolor ='grey', label ='Greedy')\n",
        "plt.bar(br2, split_1_greedy, color ='g', width = barWidth,\n",
        "        edgecolor ='grey', label ='1 Split Greedy')\n",
        "plt.bar(br3, split_2_greedy, color ='b', width = barWidth,\n",
        "        edgecolor ='grey', label ='2 Split Greedy')\n",
        "plt.bar(br4, split_3_greedy, color ='orange', width = barWidth,\n",
        "        edgecolor ='grey', label ='3 Split Greedy')\n",
        "\n",
        "plt.xlabel('Datasets. Here n = 9', fontweight ='bold', fontsize = 15)\n",
        "plt.ylabel('Percentage of Times Optimal is Found', fontweight ='bold', fontsize = 15)\n",
        "plt.xticks([r + barWidth for r in range(4)],\n",
        "        ['Determinantal', 'Bayesian', 'Random', 'Column'])\n",
        " \n",
        "plt.legend()\n",
        "plt.show()"
      ]
    },
    {
      "cell_type": "code",
      "execution_count": null,
      "metadata": {
        "id": "Cq1ud7ZzsKj2"
      },
      "outputs": [],
      "source": [
        "from time import time\n",
        "\n",
        "ns = [7]\n",
        "rs = [0,1,2,3,4,5,6]\n",
        "T = 50\n",
        "\n",
        "error = torch.zeros(len(rs),T)\n",
        "times = torch.zeros(len(rs),T)\n",
        "\n",
        "for i,n in enumerate(ns):\n",
        "  for t in tqdm(range(T)):\n",
        "    X = torch.rand(n,2*n)\n",
        "    Sigma = X.mm(X.t())\n",
        "    sigma = 0.1\n",
        "    f = determinantal(X.mm(X.t()), sigma, n)\n",
        "    f /= f.max()\n",
        "    for r in rs:\n",
        "      t1 = time()\n",
        "      fr = calc_low_rank_approx(f,r)[1]\n",
        "      t2 = time()\n",
        "      error[r,t] = torch.norm(f-fr)/torch.norm(f)\n",
        "      times[r,t] = t2-t1\n",
        "      print(error[:,t], times[:,t])\n",
        "    torch.save((error,times),\"drive/MyDrive/JIM/determinantal-low-rank-approximation-n-7.pt\")"
      ]
    },
    {
      "cell_type": "code",
      "execution_count": null,
      "metadata": {
        "id": "dwFtIbrdtwil"
      },
      "outputs": [],
      "source": [
        "from time import time\n",
        "\n",
        "ns = [7]\n",
        "rs = [0,1,2,3,4,5,6]\n",
        "T = 50\n",
        "\n",
        "error = torch.zeros(len(rs),T)\n",
        "times = torch.zeros(len(rs),T)\n",
        "\n",
        "for i,n in enumerate(ns):\n",
        "  for t in tqdm(range(T)):\n",
        "    f = make_monotone(torch.rand(2**n))\n",
        "    f /= f.max()\n",
        "    for r in rs:\n",
        "      t1 = time()\n",
        "      fr = calc_low_rank_approx(f,r)[1]\n",
        "      t2 = time()\n",
        "      error[r,t] = torch.norm(f-fr)/torch.norm(f)\n",
        "      times[r,t] = t2-t1\n",
        "      print(error[:,t], times[:,t])\n",
        "    torch.save((error,times),\"drive/MyDrive/JIM/random-low-rank-approximation-n-7.pt\")"
      ]
    },
    {
      "cell_type": "code",
      "execution_count": null,
      "metadata": {
        "id": "drhdJqAnuW7G"
      },
      "outputs": [],
      "source": [
        "from time import time\n",
        "\n",
        "ns = [8,9,10,11,12]\n",
        "rs = [0,1,2]\n",
        "T = 5\n",
        "\n",
        "error = torch.zeros(len(ns),len(rs),T)\n",
        "times = torch.zeros(len(ns),len(rs),T)\n",
        "\n",
        "for i,n in enumerate(ns):\n",
        "  for t in tqdm(range(T)):\n",
        "    f = make_monotone(torch.rand(2**n))\n",
        "    f /= f.max()\n",
        "    for r in rs:\n",
        "      t1 = time()\n",
        "      fr = calc_low_rank_approx(f,r, random = False)[1]\n",
        "      t2 = time()\n",
        "      error[i,r,t] = torch.norm(f-fr)/torch.norm(f)\n",
        "      times[i,r,t] = t2-t1\n",
        "      print(error[i,:,t], times[i,:,t])\n",
        "    torch.save((error,times),\"drive/MyDrive/JIM/random-low-rank-approximation-n-8-12.pt\")"
      ]
    },
    {
      "cell_type": "code",
      "execution_count": null,
      "metadata": {
        "id": "iFc2YFeXt_x1"
      },
      "outputs": [],
      "source": [
        "from time import time\n",
        "\n",
        "ns = [7]\n",
        "rs = [0,1,2,3,4,5,6]\n",
        "T = 50\n",
        "\n",
        "error = torch.zeros(len(rs),T)\n",
        "times = torch.zeros(len(rs),T)\n",
        "\n",
        "for i,n in enumerate(ns):\n",
        "  for t in tqdm(range(T)):\n",
        "    f = column_subset_problem(60,n,n)\n",
        "    f /= f.max()\n",
        "    for r in rs:\n",
        "      t1 = time()\n",
        "      fr = calc_low_rank_approx(f,r)[1]\n",
        "      t2 = time()\n",
        "      error[r,t] = torch.norm(f-fr)/torch.norm(f)\n",
        "      times[r,t] = t2-t1\n",
        "      print(error[:,t], times[:,t])\n",
        "    torch.save((error,times),\"drive/MyDrive/JIM/column-low-rank-approximation-n-7.pt\")"
      ]
    },
    {
      "cell_type": "code",
      "execution_count": null,
      "metadata": {
        "id": "bczHLPYEuEiq"
      },
      "outputs": [],
      "source": [
        "from time import time\n",
        "\n",
        "ns = [7]\n",
        "rs = [0,1,2,3,4,5,6]\n",
        "T = 50\n",
        "\n",
        "error = torch.zeros(len(rs),T)\n",
        "times = torch.zeros(len(rs),T)\n",
        "\n",
        "for i,n in enumerate(ns):\n",
        "  for t in tqdm(range(T)):\n",
        "    X = torch.randn(60,n)\n",
        "    beta = 1\n",
        "    sigma = 0.01\n",
        "    f = bayesian_A_optimality(X,beta,sigma,n)\n",
        "    f /= f.max()\n",
        "    for r in rs:\n",
        "      t1 = time()\n",
        "      fr = calc_low_rank_approx(f,r)[1]\n",
        "      t2 = time()\n",
        "      error[r,t] = torch.norm(f-fr)/torch.norm(f)\n",
        "      times[r,t] = t2-t1\n",
        "      print(error[:,t], times[:,t])\n",
        "    torch.save((error,times),\"drive/MyDrive/JIM/bayesian-low-rank-approximation-n-7.pt\")"
      ]
    },
    {
      "cell_type": "code",
      "execution_count": null,
      "metadata": {
        "colab": {
          "base_uri": "https://localhost:8080/",
          "height": 459
        },
        "id": "HJvTJ97gmVg_",
        "outputId": "55960a3f-691c-4fa5-845d-26200db29cc5"
      },
      "outputs": [
        {
          "data": {
            "image/png": "[encoded data removed]",
            "text/plain": [
              "<Figure size 640x480 with 1 Axes>"
            ]
          },
          "metadata": {},
          "output_type": "display_data"
        }
      ],
      "source": [
        "error_d, time_d = torch.load(\"drive/MyDrive/JIM/determinantal-low-rank-approximation-n-7.pt\")\n",
        "error_r, time_r = torch.load(\"drive/MyDrive/JIM/random-low-rank-approximation-n-7.pt\")\n",
        "error_c, time_c = torch.load(\"drive/MyDrive/JIM/column-low-rank-approximation-n-7.pt\")\n",
        "error_b, time_b = torch.load(\"drive/MyDrive/JIM/bayesian-low-rank-approximation-n-7.pt\")\n",
        "rs = [0,1,2,3,4,5,6]\n",
        "\n",
        "\n",
        "plt.scatter(rs, error_c.mean(dim=1)+1e-16, label = \"Column\")\n",
        "plt.scatter(rs, error_d.mean(dim=1)+1e-16, label = \"Determinantal\")\n",
        "plt.scatter(rs, error_r.mean(dim=1)+1e-16, label = \"Random\")\n",
        "plt.scatter(rs, error_b.mean(dim=1)+1e-16, label = \"Bayesian\")\n",
        "plt.yscale(\"log\")\n",
        "plt.xlabel(\"Rank\", fontsize=18)\n",
        "plt.ylabel(\"Relative Error\", fontsize=18)\n",
        "plt.legend(fontsize=14)\n",
        "plt.savefig(\"error.pdf\", dpi = 300, bbox_inches = \"tight\", facecolor=\"white\")"
      ]
    },
    {
      "cell_type": "code",
      "execution_count": null,
      "metadata": {
        "colab": {
          "background_save": true
        },
        "id": "TkufUVz5REpL"
      },
      "outputs": [],
      "source": [
        "ns = [15,20]\n",
        "T = 50\n",
        "splits = [1,2,3]\n",
        "\n",
        "optimal = torch.zeros(len(ns),T)\n",
        "greedy = torch.zeros(len(ns),T)\n",
        "split_greedy = torch.zeros(len(ns),len(splits),T)\n",
        "\n",
        "M = 10\n",
        "\n",
        "for i,n in enumerate(ns):\n",
        "  for t in tqdm(range(T)):\n",
        "    X = torch.rand(n,2*n)\n",
        "    Sigma = X.mm(X.t())\n",
        "    sigma = 0.1\n",
        "    f = determinantal(X.mm(X.t()), sigma, M)\n",
        "    # f /= f.max()\n",
        "\n",
        "    greedy[i,t] = greedy_size_constraint(f,0,M,n)[1].item()\n",
        "    order = make_order(n,M)\n",
        "    idx = order[f[order].argmax()]\n",
        "    optimal[i,t] = f[idx]\n",
        "\n",
        "    for s in splits:\n",
        "        split_greedy[i,s-1,t] =  f[modified_greedy_constrained(f,M,s,n)[1]]\n",
        "\n",
        "        print(optimal[i,t],greedy[i,t],split_greedy[i,s-1,t])\n",
        "\n",
        "    # for r in rs:\n",
        "    #   fr = calc_low_rank_approx(f,r)[1]\n",
        "\n",
        "    #   print(torch.norm(f-fr))\n",
        "\n",
        "    #   order = make_order(n,5)\n",
        "    #   idx = order[fr[order].argmax()]\n",
        "    #   optimal[n-8,r,t] = f[idx]\n",
        "\n",
        "    #   low_rank_greedy[n-8,r,t] = f[greedy_size_constraint(fr,0,5,n)[0]]\n",
        "      \n",
        "    #   for s in splits:\n",
        "    #     low_rank_split_greedy[n-8,r,s-1,t] =  f[modified_greedy_constrained(fr,5,s,n)[1]]\n",
        "\n",
        "    #     print(optimal[n-8,r,t],low_rank_greedy[n-8,r,t],low_rank_split_greedy[n-8,r,s-1,t])\n",
        "\n",
        "  # torch.save((optimal, greedy, low_rank_greedy, split_greedy, low_rank_split_greedy),\"drive/MyDrive/JIM/determinantal/results-\"+str(n)+\".pt\")\n",
        "  torch.save((optimal, greedy, low_rank_greedy, split_greedy, low_rank_split_greedy),\"drive/MyDrive/JIM/determinantal/larger-results-\"+str(n)+\".pt\")"
      ]
    },
    {
      "cell_type": "code",
      "execution_count": null,
      "metadata": {
        "id": "V4PizV4B2WML"
      },
      "outputs": [],
      "source": [
        "ns = [15,20]\n",
        "T = 50\n",
        "splits = [1,2,3]\n",
        "\n",
        "optimal = torch.zeros(len(ns),T)\n",
        "greedy = torch.zeros(len(ns),T)\n",
        "split_greedy = torch.zeros(len(ns),len(splits),T)\n",
        "\n",
        "M = 10\n",
        "\n",
        "for i,n in enumerate(ns):\n",
        "  for t in tqdm(range(T)):\n",
        "    X = torch.randn(60,n)\n",
        "    beta = 1\n",
        "    sigma = 0.01\n",
        "    f = bayesian_A_optimality(X,beta,sigma,M)\n",
        "    # f /= f.max()\n",
        "\n",
        "    greedy[i,t] = greedy_size_constraint(f,0,M,n)[1].item()\n",
        "    order = make_order(n,M)\n",
        "    idx = order[f[order].argmax()]\n",
        "    optimal[i,t] = f[idx]\n",
        "\n",
        "    for s in splits:\n",
        "        split_greedy[i,s-1,t] =  f[modified_greedy_constrained(f,M,s,n)[1]]\n",
        "\n",
        "        print(optimal[i,t],greedy[i,t],split_greedy[i,s-1,t])\n",
        "\n",
        "    # for r in rs:\n",
        "    #   fr = calc_low_rank_approx(f,r)[1]\n",
        "\n",
        "    #   print(torch.norm(f-fr))\n",
        "\n",
        "    #   order = make_order(n,5)\n",
        "    #   idx = order[fr[order].argmax()]\n",
        "    #   optimal[n-8,r,t] = f[idx]\n",
        "\n",
        "    #   low_rank_greedy[n-8,r,t] = f[greedy_size_constraint(fr,0,5,n)[0]]\n",
        "      \n",
        "    #   for s in splits:\n",
        "    #     low_rank_split_greedy[n-8,r,s-1,t] =  f[modified_greedy_constrained(fr,5,s,n)[1]]\n",
        "\n",
        "    #     print(optimal[n-8,r,t],low_rank_greedy[n-8,r,t],low_rank_split_greedy[n-8,r,s-1,t])\n",
        "\n",
        "  # torch.save((optimal, greedy, low_rank_greedy, split_greedy, low_rank_split_greedy),\"drive/MyDrive/JIM/determinantal/results-\"+str(n)+\".pt\")\n",
        "  torch.save((optimal, greedy, split_greedy),\"drive/MyDrive/JIM/bayesian/larger-results-\"+str(n)+\".pt\")"
      ]
    },
    {
      "cell_type": "code",
      "execution_count": null,
      "metadata": {
        "id": "TV10NhRp2dYs"
      },
      "outputs": [],
      "source": [
        "ns = [15,20]\n",
        "T = 50\n",
        "splits = [1,2,3]\n",
        "\n",
        "optimal = torch.zeros(len(ns),T)\n",
        "greedy = torch.zeros(len(ns),T)\n",
        "split_greedy = torch.zeros(len(ns),len(splits),T)\n",
        "\n",
        "M = 10\n",
        "\n",
        "for i,n in enumerate(ns):\n",
        "  for t in tqdm(range(T)):\n",
        "    f = make_monotone(torch.randn(2**n))\n",
        "    # f /= f.max()\n",
        "\n",
        "    greedy[i,t] = greedy_size_constraint(f,0,M,n)[1].item()\n",
        "    order = make_order(n,M)\n",
        "    idx = order[f[order].argmax()]\n",
        "    optimal[i,t] = f[idx]\n",
        "\n",
        "    for s in splits:\n",
        "        split_greedy[i,s-1,t] =  f[modified_greedy_constrained(f,M,s,n)[1]]\n",
        "\n",
        "        print(optimal[i,t],greedy[i,t],split_greedy[i,s-1,t])\n",
        "\n",
        "    # for r in rs:\n",
        "    #   fr = calc_low_rank_approx(f,r)[1]\n",
        "\n",
        "    #   print(torch.norm(f-fr))\n",
        "\n",
        "    #   order = make_order(n,5)\n",
        "    #   idx = order[fr[order].argmax()]\n",
        "    #   optimal[n-8,r,t] = f[idx]\n",
        "\n",
        "    #   low_rank_greedy[n-8,r,t] = f[greedy_size_constraint(fr,0,5,n)[0]]\n",
        "      \n",
        "    #   for s in splits:\n",
        "    #     low_rank_split_greedy[n-8,r,s-1,t] =  f[modified_greedy_constrained(fr,5,s,n)[1]]\n",
        "\n",
        "    #     print(optimal[n-8,r,t],low_rank_greedy[n-8,r,t],low_rank_split_greedy[n-8,r,s-1,t])\n",
        "\n",
        "  # torch.save((optimal, greedy, low_rank_greedy, split_greedy, low_rank_split_greedy),\"drive/MyDrive/JIM/determinantal/results-\"+str(n)+\".pt\")\n",
        "  torch.save((optimal, greedy, split_greedy),\"drive/MyDrive/JIM/random/larger-results-\"+str(n)+\".pt\")"
      ]
    },
    {
      "cell_type": "code",
      "execution_count": null,
      "metadata": {
        "colab": {
          "background_save": true
        },
        "id": "EAt-OIOf2fxW"
      },
      "outputs": [],
      "source": [
        "ns = [15,20]\n",
        "T = 50\n",
        "splits = [1,2,3]\n",
        "\n",
        "optimal = torch.zeros(len(ns),T)\n",
        "greedy = torch.zeros(len(ns),T)\n",
        "split_greedy = torch.zeros(len(ns),len(splits),T)\n",
        "\n",
        "M = 10\n",
        "\n",
        "for i,n in enumerate(ns):\n",
        "  for t in tqdm(range(T)):\n",
        "    f = column_subset_problem(40,n,M)\n",
        "    # f /= f.max()\n",
        "\n",
        "    greedy[i,t] = greedy_size_constraint(f,0,M,n)[1].item()\n",
        "    order = make_order(n,M)\n",
        "    idx = order[f[order].argmax()]\n",
        "    optimal[i,t] = f[idx]\n",
        "\n",
        "    for s in splits:\n",
        "        split_greedy[i,s-1,t] =  f[modified_greedy_constrained(f,M,s,n)[1]]\n",
        "\n",
        "        print(optimal[i,t],greedy[i,t],split_greedy[i,s-1,t])\n",
        "\n",
        "    # for r in rs:\n",
        "    #   fr = calc_low_rank_approx(f,r)[1]\n",
        "\n",
        "    #   print(torch.norm(f-fr))\n",
        "\n",
        "    #   order = make_order(n,5)\n",
        "    #   idx = order[fr[order].argmax()]\n",
        "    #   optimal[n-8,r,t] = f[idx]\n",
        "\n",
        "    #   low_rank_greedy[n-8,r,t] = f[greedy_size_constraint(fr,0,5,n)[0]]\n",
        "      \n",
        "    #   for s in splits:\n",
        "    #     low_rank_split_greedy[n-8,r,s-1,t] =  f[modified_greedy_constrained(fr,5,s,n)[1]]\n",
        "\n",
        "    #     print(optimal[n-8,r,t],low_rank_greedy[n-8,r,t],low_rank_split_greedy[n-8,r,s-1,t])\n",
        "\n",
        "  # torch.save((optimal, greedy, low_rank_greedy, split_greedy, low_rank_split_greedy),\"drive/MyDrive/JIM/determinantal/results-\"+str(n)+\".pt\")\n",
        "  torch.save((optimal, greedy, split_greedy),\"drive/MyDrive/JIM/column/larger-results-\"+str(n)+\".pt\")"
      ]
    },
    {
      "cell_type": "code",
      "execution_count": null,
      "metadata": {
        "colab": {
          "background_save": true
        },
        "id": "MWd7hl_ohjc3"
      },
      "outputs": [],
      "source": [
        "ns = [8,9,10]\n",
        "rs = [0,1,2,3,4,5]\n",
        "T = 10\n",
        "splits = [1,2,3]\n",
        "\n",
        "optimal = torch.zeros(3,7,T)\n",
        "greedy = torch.zeros(3,10)\n",
        "low_rank_greedy = torch.zeros(3,6,T)\n",
        "split_greedy = torch.zeros(3,3,T)\n",
        "low_rank_split_greedy = torch.zeros(3,6,3,T)\n",
        "\n",
        "\n",
        "\n",
        "for n in ns:\n",
        "  for t in range(T):\n",
        "    X = torch.randn(60,n)\n",
        "    beta = 1\n",
        "    sigma = 0.01\n",
        "    f = bayesian_A_optimality(X,beta,sigma)\n",
        "    f /= f.max()\n",
        "\n",
        "    greedy[n-8,t] = greedy_size_constraint(f,0,5,n)[1].item()\n",
        "    order = make_order(n,5)\n",
        "    idx = order[f[order].argmax()]\n",
        "    optimal[n-8,-1,t] = f[idx]\n",
        "\n",
        "    for s in splits:\n",
        "        split_greedy[n-8,s-1,t] =  f[modified_greedy_constrained(f,5,s,n)[1]]\n",
        "\n",
        "        print(optimal[n-8,-1,t],greedy[n-8,t],split_greedy[n-8,s-1,t])\n",
        "\n",
        "    for r in rs:\n",
        "      fr = calc_low_rank_approx(f,r)[1]\n",
        "\n",
        "      print(torch.norm(f-fr))\n",
        "\n",
        "      order = make_order(n,5)\n",
        "      idx = order[fr[order].argmax()]\n",
        "      optimal[n-8,r,t] = f[idx]\n",
        "\n",
        "      low_rank_greedy[n-8,r,t] = f[greedy_size_constraint(fr,0,5,n)[0]]\n",
        "      \n",
        "      for s in splits:\n",
        "        low_rank_split_greedy[n-8,r,s-1,t] =  f[modified_greedy_constrained(fr,5,s,n)[1]]\n",
        "\n",
        "        print(optimal[n-8,r,t],low_rank_greedy[n-8,r,t],low_rank_split_greedy[n-8,r,s-1,t])\n",
        "\n",
        "  torch.save((optimal, greedy, low_rank_greedy, split_greedy, low_rank_split_greedy),\"drive/MyDrive/JIM/bayesian/results-\"+str(n)+\".pt\")"
      ]
    },
    {
      "cell_type": "code",
      "execution_count": null,
      "metadata": {
        "id": "158udZaUhsKm"
      },
      "outputs": [],
      "source": [
        "ns = [8,9,10]\n",
        "rs = [0,1,2,3,4,5]\n",
        "T = 10\n",
        "splits = [1,2,3]\n",
        "\n",
        "optimal = torch.zeros(3,7,T)\n",
        "greedy = torch.zeros(3,10)\n",
        "low_rank_greedy = torch.zeros(3,6,T)\n",
        "split_greedy = torch.zeros(3,3,T)\n",
        "low_rank_split_greedy = torch.zeros(3,6,3,T)\n",
        "\n",
        "for n in ns:\n",
        "  for t in range(T):\n",
        "    f = make_monotone(torch.randn(2**n))\n",
        "    f /= f.max()\n",
        "\n",
        "    greedy[n-8,t] = greedy_size_constraint(f,0,5,n)[1].item()\n",
        "    order = make_order(n,5)\n",
        "    idx = order[f[order].argmax()]\n",
        "    optimal[n-8,-1,t] = f[idx]\n",
        "\n",
        "    for s in splits:\n",
        "        split_greedy[n-8,s-1,t] =  f[modified_greedy_constrained(f,5,s,n)[1]]\n",
        "\n",
        "        print(optimal[n-8,-1,t],greedy[n-8,t],split_greedy[n-8,s-1,t])\n",
        "\n",
        "    for r in rs:\n",
        "      fr = calc_low_rank_approx(f,r)[1]\n",
        "\n",
        "      print(torch.norm(f-fr))\n",
        "\n",
        "      order = make_order(n,5)\n",
        "      idx = order[fr[order].argmax()]\n",
        "      optimal[n-8,r,t] = f[idx]\n",
        "\n",
        "      low_rank_greedy[n-8,r,t] = f[greedy_size_constraint(fr,0,5,n)[0]]\n",
        "      \n",
        "      for s in splits:\n",
        "        low_rank_split_greedy[n-8,r,s-1,t] =  f[modified_greedy_constrained(fr,5,s,n)[1]]\n",
        "\n",
        "        print(optimal[n-8,r,t],low_rank_greedy[n-8,r,t],low_rank_split_greedy[n-8,r,s-1,t])\n",
        "\n",
        "  torch.save((optimal, greedy, low_rank_greedy, split_greedy, low_rank_split_greedy),\"drive/MyDrive/JIM/random/results-\"+str(n)+\".pt\")"
      ]
    },
    {
      "cell_type": "code",
      "execution_count": null,
      "metadata": {
        "colab": {
          "background_save": true
        },
        "id": "tUWCtcDbh2eq"
      },
      "outputs": [],
      "source": [
        "ns = [8,9,10]\n",
        "rs = [0,1,2,3,4,5]\n",
        "T = 10\n",
        "splits = [1,2,3]\n",
        "\n",
        "optimal = torch.zeros(3,7,T)\n",
        "greedy = torch.zeros(3,10)\n",
        "low_rank_greedy = torch.zeros(3,6,T)\n",
        "split_greedy = torch.zeros(3,3,T)\n",
        "low_rank_split_greedy = torch.zeros(3,6,3,T)\n",
        "\n",
        "\n",
        "\n",
        "for n in ns:\n",
        "  for t in range(T):\n",
        "    f = column_subset_problem(40,n)\n",
        "    f /= f.max()\n",
        "\n",
        "    greedy[n-8,t] = greedy_size_constraint(f,0,5,n)[1].item()\n",
        "    order = make_order(n,5)\n",
        "    idx = order[f[order].argmax()]\n",
        "    optimal[n-8,-1,t] = f[idx]\n",
        "\n",
        "    for s in splits:\n",
        "        split_greedy[n-8,s-1,t] =  f[modified_greedy_constrained(f,5,s,n)[1]]\n",
        "\n",
        "        print(optimal[n-8,-1,t],greedy[n-8,t],split_greedy[n-8,s-1,t])\n",
        "\n",
        "    for r in rs:\n",
        "      fr = calc_low_rank_approx(f,r)[1]\n",
        "\n",
        "      print(torch.norm(f-fr))\n",
        "\n",
        "      order = make_order(n,5)\n",
        "      idx = order[fr[order].argmax()]\n",
        "      optimal[n-8,r,t] = f[idx]\n",
        "\n",
        "      low_rank_greedy[n-8,r,t] = f[greedy_size_constraint(fr,0,5,n)[0]]\n",
        "      \n",
        "      for s in splits:\n",
        "        low_rank_split_greedy[n-8,r,s-1,t] =  f[modified_greedy_constrained(fr,5,s,n)[1]]\n",
        "\n",
        "        print(optimal[n-8,r,t],low_rank_greedy[n-8,r,t],low_rank_split_greedy[n-8,r,s-1,t])\n",
        "\n",
        "  torch.save((optimal, greedy, low_rank_greedy, split_greedy, low_rank_split_greedy),\"drive/MyDrive/JIM/column/results-\"+str(n)+\".pt\")"
      ]
    },
    {
      "cell_type": "code",
      "execution_count": null,
      "metadata": {
        "id": "Rlc4-YDuYBpk"
      },
      "outputs": [],
      "source": [
        "n = 500\n",
        "# f = make_monotone(torch.randn(2**n))\n",
        "# f = column_subset_problem(10,n)\n",
        "\n",
        "# X = torch.randn(60,n)\n",
        "# beta = 0.1\n",
        "# sigma = 0.1\n",
        "# f = bayesian_A_optimality(X,beta,sigma)\n",
        "\n",
        "X = torch.rand(n,n)\n",
        "Sigma = X.mm(X.t())\n",
        "sigma = 1\n",
        "# f = determinantal(X.mm(X.t()), sigma)\n",
        "\n",
        "# for i in range(2**n):\n",
        "#   print(format(i,\"0\"+str(n)+\"b\"), f[i])"
      ]
    },
    {
      "cell_type": "code",
      "execution_count": null,
      "metadata": {
        "id": "Xj251VTeWyi9"
      },
      "outputs": [],
      "source": [
        "check_monotone(f)"
      ]
    },
    {
      "cell_type": "code",
      "execution_count": null,
      "metadata": {
        "id": "cFcNW918VE-t"
      },
      "outputs": [],
      "source": [
        "f[0]"
      ]
    },
    {
      "cell_type": "code",
      "execution_count": null,
      "metadata": {
        "id": "XK7oe0_qEyD8"
      },
      "outputs": [],
      "source": [
        "calc_gamma(f)"
      ]
    },
    {
      "cell_type": "code",
      "execution_count": null,
      "metadata": {
        "id": "4RcbZ9wYExiw"
      },
      "outputs": [],
      "source": [
        "for k in range(1,6):\n",
        "  print(calc_gamma_restricted(f,k))"
      ]
    },
    {
      "cell_type": "code",
      "execution_count": null,
      "metadata": {
        "id": "iwIpqtO-ExaQ"
      },
      "outputs": [],
      "source": [
        "calc_alpha(f)"
      ]
    },
    {
      "cell_type": "code",
      "execution_count": null,
      "metadata": {
        "id": "vVlkoP75Tahg"
      },
      "outputs": [],
      "source": [
        "for k in range(1,6):\n",
        "  print(calc_alpha_restricted(f,k))"
      ]
    },
    {
      "cell_type": "code",
      "execution_count": null,
      "metadata": {
        "id": "ZADJq1TpLGvA"
      },
      "outputs": [],
      "source": [
        "f.shape"
      ]
    },
    {
      "cell_type": "code",
      "execution_count": null,
      "metadata": {
        "id": "BBtYZ82Hxr5w"
      },
      "outputs": [],
      "source": [
        "f.argmax()"
      ]
    },
    {
      "cell_type": "code",
      "execution_count": null,
      "metadata": {
        "id": "R2Ebnbg705zf"
      },
      "outputs": [],
      "source": [
        "order = make_order(n,5)\n",
        "order[torch.tensor([determinantal_f(x) for x in order]).argmax()]"
      ]
    },
    {
      "cell_type": "code",
      "execution_count": null,
      "metadata": {
        "id": "i1IMLlBAYCOM"
      },
      "outputs": [],
      "source": [
        "greedy_size_constraint(bayesian_A_optimality_f,0,15,n)"
      ]
    },
    {
      "cell_type": "code",
      "execution_count": null,
      "metadata": {
        "id": "o4ASgFFeXiIC"
      },
      "outputs": [],
      "source": [
        "modified_greedy_constrained(bayesian_A_optimality_f,15,1,n)"
      ]
    },
    {
      "cell_type": "code",
      "execution_count": null,
      "metadata": {
        "id": "zQrNUf0Ck2OC"
      },
      "outputs": [],
      "source": [
        "modified_greedy_constrained(bayesian_A_optimality_f,15,2,n)"
      ]
    },
    {
      "cell_type": "code",
      "execution_count": null,
      "metadata": {
        "id": "yqgQMDt1pl0n"
      },
      "outputs": [],
      "source": [
        "greedy_size_constraint(determinantal_f,0,15,n)"
      ]
    },
    {
      "cell_type": "code",
      "execution_count": null,
      "metadata": {
        "id": "Jpa5SO8KpoAX"
      },
      "outputs": [],
      "source": [
        "modified_greedy_constrained(determinantal_f,15,1,n)"
      ]
    },
    {
      "cell_type": "code",
      "execution_count": null,
      "metadata": {
        "id": "Ac6zf5WJr5bY"
      },
      "outputs": [],
      "source": [
        "modified_greedy_constrained(determinantal_f,15,2,n)"
      ]
    },
    {
      "cell_type": "code",
      "execution_count": null,
      "metadata": {
        "id": "gYAGlYO-r68p"
      },
      "outputs": [],
      "source": [
        "greedy_size_constraint(determinantal_f,0,15,n)"
      ]
    },
    {
      "cell_type": "code",
      "execution_count": null,
      "metadata": {
        "id": "HDPNqGpIprY4"
      },
      "outputs": [],
      "source": [
        "modified_greedy_constrained(determinantal_f,15,1,n)"
      ]
    },
    {
      "cell_type": "code",
      "execution_count": null,
      "metadata": {
        "id": "5CtRF8IQp8Fq"
      },
      "outputs": [],
      "source": [
        "modified_greedy_constrained(determinantal_f,15,2,n)"
      ]
    },
    {
      "cell_type": "code",
      "execution_count": null,
      "metadata": {
        "colab": {
          "base_uri": "https://localhost:8080/",
          "height": 596
        },
        "id": "bqpW4uuVIm2f",
        "outputId": "c8e2925b-4272-4434-e168-3e6f0b2849cc"
      },
      "outputs": [
        {
          "metadata": {
            "tags": null
          },
          "name": "stderr",
          "output_type": "stream",
          "text": [
            "100%|██████████| 100/100 [06:09<00:00,  3.70s/it]\n"
          ]
        },
        {
          "metadata": {
            "tags": null
          },
          "name": "stdout",
          "output_type": "stream",
          "text": [
            "tensor(2.8798e+08) tensor(3.0353e+08) tensor(3.0353e+08) tensor(1.)\n"
          ]
        },
        {
          "metadata": {
            "tags": null
          },
          "name": "stderr",
          "output_type": "stream",
          "text": [
            "100%|██████████| 100/100 [28:27<00:00, 17.08s/it]\n"
          ]
        },
        {
          "metadata": {
            "tags": null
          },
          "name": "stdout",
          "output_type": "stream",
          "text": [
            "tensor(2.8114e+12) tensor(3.1696e+12) tensor(3.1676e+12) tensor(1.0006)\n"
          ]
        },
        {
          "metadata": {
            "tags": null
          },
          "name": "stderr",
          "output_type": "stream",
          "text": [
            "100%|██████████| 100/100 [1:07:28<00:00, 40.49s/it]\n"
          ]
        },
        {
          "metadata": {
            "tags": null
          },
          "name": "stdout",
          "output_type": "stream",
          "text": [
            "tensor(7.4291e+14) tensor(8.4636e+14) tensor(8.4625e+14) tensor(1.0002)\n"
          ]
        },
        {
          "metadata": {
            "tags": null
          },
          "name": "stderr",
          "output_type": "stream",
          "text": [
            "100%|██████████| 100/100 [2:05:49<00:00, 75.49s/it]\n"
          ]
        },
        {
          "metadata": {
            "tags": null
          },
          "name": "stdout",
          "output_type": "stream",
          "text": [
            "tensor(3.9839e+16) tensor(4.6090e+16) tensor(4.6070e+16) tensor(1.0005)\n"
          ]
        },
        {
          "metadata": {
            "tags": null
          },
          "name": "stderr",
          "output_type": "stream",
          "text": [
            "100%|██████████| 100/100 [5:03:01<00:00, 181.81s/it]\n"
          ]
        },
        {
          "metadata": {
            "tags": null
          },
          "name": "stdout",
          "output_type": "stream",
          "text": [
            "tensor(1.2049e+19) tensor(1.3941e+19) tensor(1.3932e+19) tensor(1.0006)\n"
          ]
        },
        {
          "metadata": {
            "tags": null
          },
          "name": "stderr",
          "output_type": "stream",
          "text": [
            "100%|██████████| 100/100 [9:20:43<00:00, 336.44s/it]\n"
          ]
        },
        {
          "metadata": {
            "tags": null
          },
          "name": "stdout",
          "output_type": "stream",
          "text": [
            "tensor(7.2983e+20) tensor(8.1869e+20) tensor(8.1854e+20) tensor(1.0002)\n"
          ]
        },
        {
          "output_type": "stream",
          "name": "stderr",
          "text": [
            " 17%|█▋        | 17/100 [2:44:49<13:24:45, 581.75s/it]\n"
          ]
        },
        {
          "output_type": "error",
          "ename": "KeyboardInterrupt",
          "evalue": "ignored",
          "traceback": [
            "\u001b[0;31m---------------------------------------------------------------------------\u001b[0m",
            "\u001b[0;31mKeyboardInterrupt\u001b[0m                         Traceback (most recent call last)",
            "\u001b[0;32m<ipython-input-20-98d9c84703b3>\u001b[0m in \u001b[0;36m<cell line: 10>\u001b[0;34m()\u001b[0m\n\u001b[1;32m     16\u001b[0m     \u001b[0mgreedy_1\u001b[0m\u001b[0;34m[\u001b[0m\u001b[0midx\u001b[0m\u001b[0;34m,\u001b[0m\u001b[0mtrial\u001b[0m\u001b[0;34m]\u001b[0m \u001b[0;34m=\u001b[0m \u001b[0mmodified_greedy_constrained\u001b[0m\u001b[0;34m(\u001b[0m\u001b[0mdeterminantal_f\u001b[0m\u001b[0;34m,\u001b[0m\u001b[0;36m15\u001b[0m\u001b[0;34m,\u001b[0m\u001b[0;36m1\u001b[0m\u001b[0;34m,\u001b[0m\u001b[0mn\u001b[0m\u001b[0;34m)\u001b[0m\u001b[0;34m[\u001b[0m\u001b[0;36m0\u001b[0m\u001b[0;34m]\u001b[0m\u001b[0;34m\u001b[0m\u001b[0;34m\u001b[0m\u001b[0m\n\u001b[1;32m     17\u001b[0m     \u001b[0;31m# greedy_2[idx,trial] = modified_greedy_constrained(determinantal_f,15,2,n)[0]\u001b[0m\u001b[0;34m\u001b[0m\u001b[0;34m\u001b[0m\u001b[0m\n\u001b[0;32m---> 18\u001b[0;31m     \u001b[0mgreedy_m1\u001b[0m\u001b[0;34m[\u001b[0m\u001b[0midx\u001b[0m\u001b[0;34m,\u001b[0m\u001b[0mtrial\u001b[0m\u001b[0;34m]\u001b[0m \u001b[0;34m=\u001b[0m \u001b[0mmore_compute_greedy_constrained\u001b[0m\u001b[0;34m(\u001b[0m\u001b[0mdeterminantal_f\u001b[0m\u001b[0;34m,\u001b[0m\u001b[0;36m15\u001b[0m\u001b[0;34m,\u001b[0m\u001b[0;36m1\u001b[0m\u001b[0;34m,\u001b[0m\u001b[0mn\u001b[0m\u001b[0;34m)\u001b[0m\u001b[0;34m[\u001b[0m\u001b[0;36m0\u001b[0m\u001b[0;34m]\u001b[0m\u001b[0;34m\u001b[0m\u001b[0;34m\u001b[0m\u001b[0m\n\u001b[0m\u001b[1;32m     19\u001b[0m     \u001b[0;31m# greedy_m2[idx,trial] = more_compute_greedy_constrained(determinantal_f,15,2,n)[0]\u001b[0m\u001b[0;34m\u001b[0m\u001b[0;34m\u001b[0m\u001b[0m\n\u001b[1;32m     20\u001b[0m \u001b[0;34m\u001b[0m\u001b[0m\n",
            "\u001b[0;32m<ipython-input-5-5f7a6a8713d9>\u001b[0m in \u001b[0;36mmore_compute_greedy_constrained\u001b[0;34m(f, M, k, n)\u001b[0m\n\u001b[1;32m    212\u001b[0m     \u001b[0;31m# print(x)\u001b[0m\u001b[0;34m\u001b[0m\u001b[0;34m\u001b[0m\u001b[0m\n\u001b[1;32m    213\u001b[0m \u001b[0;34m\u001b[0m\u001b[0m\n\u001b[0;32m--> 214\u001b[0;31m     \u001b[0mmax_index_new\u001b[0m\u001b[0;34m,\u001b[0m \u001b[0mmax_val_new\u001b[0m \u001b[0;34m=\u001b[0m \u001b[0mgreedy_size_constraint\u001b[0m\u001b[0;34m(\u001b[0m\u001b[0mf\u001b[0m\u001b[0;34m,\u001b[0m\u001b[0mx\u001b[0m\u001b[0;34m,\u001b[0m\u001b[0mM\u001b[0m\u001b[0;34m-\u001b[0m\u001b[0mk\u001b[0m\u001b[0;34m,\u001b[0m\u001b[0mn\u001b[0m\u001b[0;34m,\u001b[0m\u001b[0mindex_set\u001b[0m\u001b[0;34m)\u001b[0m\u001b[0;34m\u001b[0m\u001b[0;34m\u001b[0m\u001b[0m\n\u001b[0m\u001b[1;32m    215\u001b[0m     \u001b[0;32mif\u001b[0m \u001b[0mmax_val_new\u001b[0m \u001b[0;34m>\u001b[0m \u001b[0mmax_val\u001b[0m\u001b[0;34m:\u001b[0m\u001b[0;34m\u001b[0m\u001b[0;34m\u001b[0m\u001b[0m\n\u001b[1;32m    216\u001b[0m       \u001b[0mmax_val\u001b[0m \u001b[0;34m=\u001b[0m \u001b[0mmax_val_new\u001b[0m\u001b[0;34m\u001b[0m\u001b[0;34m\u001b[0m\u001b[0m\n",
            "\u001b[0;32m<ipython-input-5-5f7a6a8713d9>\u001b[0m in \u001b[0;36mgreedy_size_constraint\u001b[0;34m(f, x, M, n, exclude)\u001b[0m\n\u001b[1;32m    155\u001b[0m \u001b[0;32mdef\u001b[0m \u001b[0mgreedy_size_constraint\u001b[0m\u001b[0;34m(\u001b[0m\u001b[0mf\u001b[0m\u001b[0;34m,\u001b[0m \u001b[0mx\u001b[0m\u001b[0;34m,\u001b[0m \u001b[0mM\u001b[0m\u001b[0;34m,\u001b[0m \u001b[0mn\u001b[0m\u001b[0;34m,\u001b[0m \u001b[0mexclude\u001b[0m \u001b[0;34m=\u001b[0m \u001b[0;34m[\u001b[0m\u001b[0;34m]\u001b[0m\u001b[0;34m)\u001b[0m\u001b[0;34m:\u001b[0m\u001b[0;34m\u001b[0m\u001b[0;34m\u001b[0m\u001b[0m\n\u001b[1;32m    156\u001b[0m   \u001b[0;32mfor\u001b[0m \u001b[0mi\u001b[0m \u001b[0;32min\u001b[0m \u001b[0mrange\u001b[0m\u001b[0;34m(\u001b[0m\u001b[0mM\u001b[0m\u001b[0;34m)\u001b[0m\u001b[0;34m:\u001b[0m\u001b[0;34m\u001b[0m\u001b[0;34m\u001b[0m\u001b[0m\n\u001b[0;32m--> 157\u001b[0;31m     \u001b[0m_\u001b[0m\u001b[0;34m,\u001b[0m \u001b[0mx\u001b[0m \u001b[0;34m=\u001b[0m \u001b[0mdiscrete_gradient\u001b[0m\u001b[0;34m(\u001b[0m\u001b[0mf\u001b[0m\u001b[0;34m,\u001b[0m\u001b[0mx\u001b[0m\u001b[0;34m,\u001b[0m\u001b[0mn\u001b[0m\u001b[0;34m,\u001b[0m\u001b[0mexclude\u001b[0m\u001b[0;34m)\u001b[0m\u001b[0;34m\u001b[0m\u001b[0;34m\u001b[0m\u001b[0m\n\u001b[0m\u001b[1;32m    158\u001b[0m     \u001b[0;31m# print(x,f[x])\u001b[0m\u001b[0;34m\u001b[0m\u001b[0;34m\u001b[0m\u001b[0m\n\u001b[1;32m    159\u001b[0m \u001b[0;34m\u001b[0m\u001b[0m\n",
            "\u001b[0;32m<ipython-input-5-5f7a6a8713d9>\u001b[0m in \u001b[0;36mdiscrete_gradient\u001b[0;34m(f, x, n, exclude)\u001b[0m\n\u001b[1;32m    134\u001b[0m         \u001b[0mS_new\u001b[0m\u001b[0;34m[\u001b[0m\u001b[0mi\u001b[0m\u001b[0;34m]\u001b[0m \u001b[0;34m=\u001b[0m \u001b[0;34m\"1\"\u001b[0m\u001b[0;34m\u001b[0m\u001b[0;34m\u001b[0m\u001b[0m\n\u001b[1;32m    135\u001b[0m         \u001b[0mx_new\u001b[0m \u001b[0;34m=\u001b[0m \u001b[0mint\u001b[0m\u001b[0;34m(\u001b[0m\u001b[0;34m\"\"\u001b[0m\u001b[0;34m.\u001b[0m\u001b[0mjoin\u001b[0m\u001b[0;34m(\u001b[0m\u001b[0mS_new\u001b[0m\u001b[0;34m)\u001b[0m\u001b[0;34m,\u001b[0m\u001b[0;36m2\u001b[0m\u001b[0;34m)\u001b[0m\u001b[0;34m\u001b[0m\u001b[0;34m\u001b[0m\u001b[0m\n\u001b[0;32m--> 136\u001b[0;31m         \u001b[0;32mif\u001b[0m \u001b[0mf\u001b[0m\u001b[0;34m(\u001b[0m\u001b[0mx_new\u001b[0m\u001b[0;34m)\u001b[0m \u001b[0;34m>\u001b[0m \u001b[0mmax_val\u001b[0m\u001b[0;34m:\u001b[0m\u001b[0;34m\u001b[0m\u001b[0;34m\u001b[0m\u001b[0m\n\u001b[0m\u001b[1;32m    137\u001b[0m           \u001b[0mmax_val\u001b[0m \u001b[0;34m=\u001b[0m \u001b[0mf\u001b[0m\u001b[0;34m(\u001b[0m\u001b[0mx_new\u001b[0m\u001b[0;34m)\u001b[0m\u001b[0;34m\u001b[0m\u001b[0;34m\u001b[0m\u001b[0m\n\u001b[1;32m    138\u001b[0m           \u001b[0mmax_index\u001b[0m \u001b[0;34m=\u001b[0m \u001b[0mx_new\u001b[0m\u001b[0;34m\u001b[0m\u001b[0;34m\u001b[0m\u001b[0m\n",
            "\u001b[0;32m<ipython-input-5-5f7a6a8713d9>\u001b[0m in \u001b[0;36mdeterminantal_f\u001b[0;34m(i)\u001b[0m\n\u001b[1;32m    327\u001b[0m   \u001b[0mn\u001b[0m\u001b[0;34m,\u001b[0m\u001b[0mn\u001b[0m \u001b[0;34m=\u001b[0m \u001b[0mSigma\u001b[0m\u001b[0;34m.\u001b[0m\u001b[0mshape\u001b[0m\u001b[0;34m\u001b[0m\u001b[0;34m\u001b[0m\u001b[0m\n\u001b[1;32m    328\u001b[0m \u001b[0;34m\u001b[0m\u001b[0m\n\u001b[0;32m--> 329\u001b[0;31m   \u001b[0mS\u001b[0m \u001b[0;34m=\u001b[0m \u001b[0mformat\u001b[0m\u001b[0;34m(\u001b[0m\u001b[0mi\u001b[0m\u001b[0;34m,\u001b[0m\u001b[0;34m\"0\"\u001b[0m\u001b[0;34m+\u001b[0m\u001b[0mstr\u001b[0m\u001b[0;34m(\u001b[0m\u001b[0mn\u001b[0m\u001b[0;34m)\u001b[0m\u001b[0;34m+\u001b[0m\u001b[0;34m\"b\"\u001b[0m\u001b[0;34m)\u001b[0m\u001b[0;34m\u001b[0m\u001b[0;34m\u001b[0m\u001b[0m\n\u001b[0m\u001b[1;32m    330\u001b[0m   \u001b[0mindexes\u001b[0m \u001b[0;34m=\u001b[0m \u001b[0mtorch\u001b[0m\u001b[0;34m.\u001b[0m\u001b[0mzeros\u001b[0m\u001b[0;34m(\u001b[0m\u001b[0mn\u001b[0m\u001b[0;34m,\u001b[0m \u001b[0mdtype\u001b[0m \u001b[0;34m=\u001b[0m \u001b[0mtorch\u001b[0m\u001b[0;34m.\u001b[0m\u001b[0mlong\u001b[0m\u001b[0;34m)\u001b[0m\u001b[0;34m\u001b[0m\u001b[0;34m\u001b[0m\u001b[0m\n\u001b[1;32m    331\u001b[0m   \u001b[0midx\u001b[0m \u001b[0;34m=\u001b[0m \u001b[0;36m0\u001b[0m\u001b[0;34m\u001b[0m\u001b[0;34m\u001b[0m\u001b[0m\n",
            "\u001b[0;31mKeyboardInterrupt\u001b[0m: "
          ]
        }
      ],
      "source": [
        "Ns = [25,50,75,100,150,200,250,300,400,500]\n",
        "\n",
        "greedy = torch.zeros(10,100)\n",
        "greedy_1 = torch.zeros(10,100)\n",
        "greedy_2 = torch.zeros(10,100)\n",
        "greedy_m1 = torch.zeros(10,100)\n",
        "greedy_m2 = torch.zeros(10,100)\n",
        "\n",
        "\n",
        "for idx,n in enumerate(Ns):\n",
        "  for trial in tqdm(range(100)):\n",
        "    X = torch.rand(n,n)\n",
        "    Sigma = X.mm(X.t())\n",
        "    sigma = 1\n",
        "    greedy[idx,trial] = greedy_size_constraint(determinantal_f,0,15,n)[1]\n",
        "    greedy_1[idx,trial] = modified_greedy_constrained(determinantal_f,15,1,n)[0]\n",
        "    # greedy_2[idx,trial] = modified_greedy_constrained(determinantal_f,15,2,n)[0]\n",
        "    greedy_m1[idx,trial] = more_compute_greedy_constrained(determinantal_f,15,1,n)[0]\n",
        "    # greedy_m2[idx,trial] = more_compute_greedy_constrained(determinantal_f,15,2,n)[0]\n",
        "\n",
        "  print(greedy[idx,:].mean(),greedy_1[idx,:].mean(),greedy_m1[idx,:].mean(),(greedy_1[idx,:]/greedy_m1[idx,:]).mean())\n",
        "\n",
        "  torch.save(greedy,\"drive/MyDrive/JIM/greedy-determinantal\"+str(n)+\"-15.pt\")\n",
        "  torch.save(greedy_1,\"drive/MyDrive/JIM/modified-greedy-1-determinantal-\"+str(n)+\"-15.pt\")\n",
        "  # torch.save(greedy_2,\"drive/MyDrive/JIM/modified-greedy-2-determinantal-\"+str(n)+\"-15.pt\")\n",
        "  torch.save(greedy_m1,\"drive/MyDrive/JIM/compute-greedy-1-determinantal-\"+str(n)+\"-15.pt\")\n",
        "  # torch.save(greedy_m2,\"drive/MyDrive/JIM/compute-greedy-2-determinantal\"+str(n)+\"-15.pt\")\n",
        "\n",
        "\n"
      ]
    },
    {
      "cell_type": "code",
      "execution_count": null,
      "metadata": {
        "colab": {
          "base_uri": "https://localhost:8080/"
        },
        "id": "fHd4SyHYEDwh",
        "outputId": "521ff354-3b24-47e4-fcfb-4efbf5b23830"
      },
      "outputs": [
        {
          "output_type": "execute_result",
          "data": {
            "text/plain": [
              "torch.return_types.sort(\n",
              "values=tensor([1.0000, 1.0000, 1.0000, 1.0000, 1.0000, 1.0000, 1.0000, 1.0000, 1.0000,\n",
              "        1.0000, 1.0000, 1.0000, 1.0000, 1.0000, 1.0000, 1.0000, 1.0000, 1.0000,\n",
              "        1.0000, 1.0000, 1.0000, 1.0000, 1.0000, 1.0000, 1.0000, 1.0000, 1.0000,\n",
              "        1.0000, 1.0000, 1.0000, 1.0000, 1.0000, 1.0000, 1.0000, 1.0000, 1.0000,\n",
              "        1.0000, 1.0000, 1.0000, 1.0000, 1.0000, 1.0000, 1.0000, 1.0000, 1.0000,\n",
              "        1.0000, 1.0000, 1.0000, 1.0000, 1.0000, 1.0000, 1.0000, 1.0000, 1.0000,\n",
              "        1.0000, 1.0000, 1.0000, 1.0000, 1.0000, 1.0000, 1.0000, 1.0000, 1.0000,\n",
              "        1.0000, 1.0000, 1.0000, 1.0000, 1.0000, 1.0000, 1.0000, 1.0000, 1.0000,\n",
              "        1.0000, 1.0000, 1.0000, 1.0000, 1.0000, 1.0000, 1.0000, 1.0000, 1.0000,\n",
              "        1.0000, 1.0000, 1.0000, 1.0000, 1.0000, 1.0000, 1.0000, 1.0000, 1.0000,\n",
              "        1.0000, 1.0000, 1.0000, 1.0000, 1.0000, 1.0000, 1.0000, 1.0098, 1.0175,\n",
              "        1.0326]),\n",
              "indices=tensor([60, 73, 72, 71, 70, 69, 67, 66, 65, 64, 63, 62, 61, 74, 59, 58, 57, 56,\n",
              "        55, 54, 53, 52, 51,  0, 49, 88, 99, 98, 97, 96, 95, 94, 93, 92, 91, 90,\n",
              "        89, 50, 87, 86, 85, 84, 83, 82, 80, 79, 77, 76, 75, 12, 48, 23, 22, 21,\n",
              "        20, 19, 18, 17, 16, 15, 14, 13, 24, 11, 10,  9,  8,  7,  6,  5,  4,  3,\n",
              "         2,  1, 35, 47, 46, 45, 44, 43, 42, 41, 40, 39, 38, 37, 36, 25, 34, 33,\n",
              "        32, 31, 30, 29, 28, 27, 26, 81, 68, 78]))"
            ]
          },
          "metadata": {},
          "execution_count": 21
        }
      ],
      "source": [
        "(greedy_1[1,:]/greedy_m1[1,:]).sort()"
      ]
    },
    {
      "cell_type": "code",
      "source": [
        "(greedy_1[2,:]/greedy_m1[2,:]).sort()"
      ],
      "metadata": {
        "colab": {
          "base_uri": "https://localhost:8080/"
        },
        "id": "DB15Yi8ylM2O",
        "outputId": "968f1520-9337-4502-a3a7-e26b2640cb9f"
      },
      "execution_count": null,
      "outputs": [
        {
          "output_type": "execute_result",
          "data": {
            "text/plain": [
              "torch.return_types.sort(\n",
              "values=tensor([1.0000, 1.0000, 1.0000, 1.0000, 1.0000, 1.0000, 1.0000, 1.0000, 1.0000,\n",
              "        1.0000, 1.0000, 1.0000, 1.0000, 1.0000, 1.0000, 1.0000, 1.0000, 1.0000,\n",
              "        1.0000, 1.0000, 1.0000, 1.0000, 1.0000, 1.0000, 1.0000, 1.0000, 1.0000,\n",
              "        1.0000, 1.0000, 1.0000, 1.0000, 1.0000, 1.0000, 1.0000, 1.0000, 1.0000,\n",
              "        1.0000, 1.0000, 1.0000, 1.0000, 1.0000, 1.0000, 1.0000, 1.0000, 1.0000,\n",
              "        1.0000, 1.0000, 1.0000, 1.0000, 1.0000, 1.0000, 1.0000, 1.0000, 1.0000,\n",
              "        1.0000, 1.0000, 1.0000, 1.0000, 1.0000, 1.0000, 1.0000, 1.0000, 1.0000,\n",
              "        1.0000, 1.0000, 1.0000, 1.0000, 1.0000, 1.0000, 1.0000, 1.0000, 1.0000,\n",
              "        1.0000, 1.0000, 1.0000, 1.0000, 1.0000, 1.0000, 1.0000, 1.0000, 1.0000,\n",
              "        1.0000, 1.0000, 1.0000, 1.0000, 1.0000, 1.0000, 1.0000, 1.0000, 1.0000,\n",
              "        1.0000, 1.0000, 1.0000, 1.0000, 1.0000, 1.0000, 1.0000, 1.0000, 1.0007,\n",
              "        1.0146]),\n",
              "indices=tensor([62, 74, 73, 72, 71, 70, 69, 68, 67, 66, 65, 64, 63, 76, 61, 60, 59, 58,\n",
              "        57, 56, 55, 54, 52, 51,  0, 88, 99, 98, 97, 96, 95, 94, 93, 92, 91, 90,\n",
              "        89, 50, 87, 86, 85, 84, 83, 82, 81, 80, 79, 78, 77, 12, 24, 23, 22, 21,\n",
              "        20, 19, 18, 17, 16, 15, 14, 13, 25, 11, 10,  9,  8,  7,  6,  5,  4,  3,\n",
              "         2,  1, 37, 48, 47, 46, 45, 44, 43, 42, 41, 40, 39, 38, 49, 36, 35, 34,\n",
              "        33, 32, 31, 30, 29, 28, 27, 26, 75, 53]))"
            ]
          },
          "metadata": {},
          "execution_count": 22
        }
      ]
    },
    {
      "cell_type": "code",
      "source": [
        "(greedy_1[3,:]/greedy_m1[3,:]).sort()"
      ],
      "metadata": {
        "colab": {
          "base_uri": "https://localhost:8080/"
        },
        "id": "YQF6-5PllP4g",
        "outputId": "2886e865-07d2-4a5e-dc60-2020cc2794f7"
      },
      "execution_count": null,
      "outputs": [
        {
          "output_type": "execute_result",
          "data": {
            "text/plain": [
              "torch.return_types.sort(\n",
              "values=tensor([1.0000, 1.0000, 1.0000, 1.0000, 1.0000, 1.0000, 1.0000, 1.0000, 1.0000,\n",
              "        1.0000, 1.0000, 1.0000, 1.0000, 1.0000, 1.0000, 1.0000, 1.0000, 1.0000,\n",
              "        1.0000, 1.0000, 1.0000, 1.0000, 1.0000, 1.0000, 1.0000, 1.0000, 1.0000,\n",
              "        1.0000, 1.0000, 1.0000, 1.0000, 1.0000, 1.0000, 1.0000, 1.0000, 1.0000,\n",
              "        1.0000, 1.0000, 1.0000, 1.0000, 1.0000, 1.0000, 1.0000, 1.0000, 1.0000,\n",
              "        1.0000, 1.0000, 1.0000, 1.0000, 1.0000, 1.0000, 1.0000, 1.0000, 1.0000,\n",
              "        1.0000, 1.0000, 1.0000, 1.0000, 1.0000, 1.0000, 1.0000, 1.0000, 1.0000,\n",
              "        1.0000, 1.0000, 1.0000, 1.0000, 1.0000, 1.0000, 1.0000, 1.0000, 1.0000,\n",
              "        1.0000, 1.0000, 1.0000, 1.0000, 1.0000, 1.0000, 1.0000, 1.0000, 1.0000,\n",
              "        1.0000, 1.0000, 1.0000, 1.0000, 1.0000, 1.0000, 1.0000, 1.0000, 1.0000,\n",
              "        1.0000, 1.0000, 1.0000, 1.0000, 1.0000, 1.0013, 1.0022, 1.0097, 1.0129,\n",
              "        1.0192]),\n",
              "indices=tensor([61, 73, 72, 71, 70, 69, 68, 67, 66, 65, 64, 63, 62, 74, 60, 59, 58, 57,\n",
              "        56, 55, 54, 53, 52, 51,  0, 87, 99, 98, 97, 96, 95, 94, 93, 92, 91, 90,\n",
              "        89, 88, 50, 86, 85, 84, 83, 82, 81, 80, 79, 78, 77, 76, 12, 25, 23, 22,\n",
              "        21, 20, 19, 17, 16, 15, 14, 13, 48, 11, 10,  9,  8,  7,  6,  5,  4,  3,\n",
              "         2,  1, 36, 49, 47, 46, 45, 44, 43, 42, 41, 40, 39, 38, 37, 26, 35, 34,\n",
              "        33, 32, 30, 29, 27, 28, 24, 31, 75, 18]))"
            ]
          },
          "metadata": {},
          "execution_count": 23
        }
      ]
    },
    {
      "cell_type": "code",
      "source": [
        "(greedy_1[4,:]/greedy_m1[4,:]).sort()"
      ],
      "metadata": {
        "colab": {
          "base_uri": "https://localhost:8080/"
        },
        "id": "lfLL3n1jlSib",
        "outputId": "ca8a04fe-c229-4abf-e1fc-f272f5e387be"
      },
      "execution_count": null,
      "outputs": [
        {
          "output_type": "execute_result",
          "data": {
            "text/plain": [
              "torch.return_types.sort(\n",
              "values=tensor([1.0000, 1.0000, 1.0000, 1.0000, 1.0000, 1.0000, 1.0000, 1.0000, 1.0000,\n",
              "        1.0000, 1.0000, 1.0000, 1.0000, 1.0000, 1.0000, 1.0000, 1.0000, 1.0000,\n",
              "        1.0000, 1.0000, 1.0000, 1.0000, 1.0000, 1.0000, 1.0000, 1.0000, 1.0000,\n",
              "        1.0000, 1.0000, 1.0000, 1.0000, 1.0000, 1.0000, 1.0000, 1.0000, 1.0000,\n",
              "        1.0000, 1.0000, 1.0000, 1.0000, 1.0000, 1.0000, 1.0000, 1.0000, 1.0000,\n",
              "        1.0000, 1.0000, 1.0000, 1.0000, 1.0000, 1.0000, 1.0000, 1.0000, 1.0000,\n",
              "        1.0000, 1.0000, 1.0000, 1.0000, 1.0000, 1.0000, 1.0000, 1.0000, 1.0000,\n",
              "        1.0000, 1.0000, 1.0000, 1.0000, 1.0000, 1.0000, 1.0000, 1.0000, 1.0000,\n",
              "        1.0000, 1.0000, 1.0000, 1.0000, 1.0000, 1.0000, 1.0000, 1.0000, 1.0000,\n",
              "        1.0000, 1.0000, 1.0000, 1.0000, 1.0000, 1.0000, 1.0000, 1.0000, 1.0000,\n",
              "        1.0000, 1.0000, 1.0000, 1.0000, 1.0000, 1.0030, 1.0062, 1.0164, 1.0174,\n",
              "        1.0215]),\n",
              "indices=tensor([60, 72, 71, 70, 69, 68, 67, 66, 65, 64, 63, 62, 61, 73, 59, 58, 57, 56,\n",
              "        55, 54, 53, 52, 51,  0, 49, 87, 99, 98, 97, 96, 95, 94, 93, 92, 91, 89,\n",
              "        88, 50, 86, 85, 84, 83, 81, 79, 78, 77, 76, 75, 74, 12, 48, 22, 21, 20,\n",
              "        19, 18, 17, 16, 15, 14, 13, 23, 11, 10,  9,  8,  7,  6,  5,  4,  3,  2,\n",
              "         1, 35, 47, 46, 45, 44, 42, 41, 40, 39, 38, 37, 36, 24, 34, 33, 31, 30,\n",
              "        29, 28, 27, 26, 25, 82, 90, 32, 80, 43]))"
            ]
          },
          "metadata": {},
          "execution_count": 24
        }
      ]
    },
    {
      "cell_type": "code",
      "source": [
        "(greedy_1[5,:]/greedy_m1[5,:]).sort()"
      ],
      "metadata": {
        "id": "NMx_-L0TlXRh",
        "outputId": "ab333633-66c8-46f8-d2a4-e6f9c2b869f3",
        "colab": {
          "base_uri": "https://localhost:8080/"
        }
      },
      "execution_count": null,
      "outputs": [
        {
          "output_type": "execute_result",
          "data": {
            "text/plain": [
              "torch.return_types.sort(\n",
              "values=tensor([1.0000, 1.0000, 1.0000, 1.0000, 1.0000, 1.0000, 1.0000, 1.0000, 1.0000,\n",
              "        1.0000, 1.0000, 1.0000, 1.0000, 1.0000, 1.0000, 1.0000, 1.0000, 1.0000,\n",
              "        1.0000, 1.0000, 1.0000, 1.0000, 1.0000, 1.0000, 1.0000, 1.0000, 1.0000,\n",
              "        1.0000, 1.0000, 1.0000, 1.0000, 1.0000, 1.0000, 1.0000, 1.0000, 1.0000,\n",
              "        1.0000, 1.0000, 1.0000, 1.0000, 1.0000, 1.0000, 1.0000, 1.0000, 1.0000,\n",
              "        1.0000, 1.0000, 1.0000, 1.0000, 1.0000, 1.0000, 1.0000, 1.0000, 1.0000,\n",
              "        1.0000, 1.0000, 1.0000, 1.0000, 1.0000, 1.0000, 1.0000, 1.0000, 1.0000,\n",
              "        1.0000, 1.0000, 1.0000, 1.0000, 1.0000, 1.0000, 1.0000, 1.0000, 1.0000,\n",
              "        1.0000, 1.0000, 1.0000, 1.0000, 1.0000, 1.0000, 1.0000, 1.0000, 1.0000,\n",
              "        1.0000, 1.0000, 1.0000, 1.0000, 1.0000, 1.0000, 1.0000, 1.0000, 1.0000,\n",
              "        1.0000, 1.0000, 1.0000, 1.0000, 1.0000, 1.0000, 1.0000, 1.0006, 1.0015,\n",
              "        1.0139]),\n",
              "indices=tensor([61, 74, 73, 72, 71, 69, 68, 67, 66, 65, 64, 63, 62, 75, 60, 59, 58, 57,\n",
              "        56, 55, 54, 53, 52, 51,  0, 87, 99, 98, 97, 95, 94, 93, 92, 91, 90, 89,\n",
              "        88, 50, 86, 85, 84, 83, 82, 81, 80, 79, 78, 77, 76, 12, 49, 24, 23, 22,\n",
              "        21, 20, 19, 18, 17, 15, 14, 13, 25, 11, 10,  9,  8,  7,  6,  5,  4,  3,\n",
              "         2,  1, 37, 48, 47, 46, 45, 44, 43, 42, 41, 40, 39, 38, 26, 36, 35, 34,\n",
              "        33, 32, 31, 30, 29, 28, 27, 16, 96, 70]))"
            ]
          },
          "metadata": {},
          "execution_count": 25
        }
      ]
    },
    {
      "cell_type": "code",
      "execution_count": null,
      "metadata": {
        "colab": {
          "base_uri": "https://localhost:8080/",
          "height": 447
        },
        "id": "D9A7r0lxRlvC",
        "outputId": "c8563462-29ac-482e-8501-b5051589dabd"
      },
      "outputs": [
        {
          "data": {
            "text/plain": [
              "<matplotlib.collections.PathCollection at 0x7febdc32dcd0>"
            ]
          },
          "execution_count": 9,
          "metadata": {},
          "output_type": "execute_result"
        },
        {
          "data": {
            "image/png": "[encoded data removed]",
            "text/plain": [
              "<Figure size 640x480 with 1 Axes>"
            ]
          },
          "metadata": {},
          "output_type": "display_data"
        }
      ],
      "source": [
        "import torch\n",
        "Ns = [25,50,75,100,150,200,250,300,400,500]\n",
        "ratios_d = torch.zeros(len(Ns))\n",
        "rerrors_d = torch.zeros(len(Ns))\n",
        "for i,n in enumerate(Ns):\n",
        "  greedy = torch.load(\"drive/MyDrive/JIM/greedy-determinantal-\"+str(n)+\"-15.pt\")\n",
        "  greedy_1 = torch.load(\"drive/MyDrive/JIM/modified-greedy-1-determinantal-\"+str(n)+\"-15.pt\")\n",
        "\n",
        "  ratios_d[i] = (greedy_1[0,:]/greedy[0,:]).mean()\n",
        "  rerrors_d[i] = (greedy_1[0,:]/greedy[0,:]).std()\n",
        "\n",
        "plt.scatter(Ns, ratios_d)"
      ]
    },
    {
      "cell_type": "code",
      "execution_count": null,
      "metadata": {
        "id": "d-Ma36cT5r1W"
      },
      "outputs": [],
      "source": [
        "import torch\n",
        "Ns = [25,50,75,100,150,200,250,300,400,500]\n",
        "ratios_b = torch.zeros(len(Ns))\n",
        "rerrors_b = torch.zeros(len(Ns))\n",
        "for i,n in enumerate(Ns):\n",
        "  greedy = torch.load(\"drive/MyDrive/JIM/greedy-bayesian-\"+str(n)+\"-15.pt\")\n",
        "  greedy_1 = torch.load(\"drive/MyDrive/JIM/modified-greedy-1-bayesian-\"+str(n)+\"-15.pt\")\n",
        "\n",
        "  ratios_b[i] = (greedy_1[i,:]/greedy[i,:]).mean()\n",
        "  rerrors_b[i] = (greedy_1[i,:]/greedy[i,:]).std()"
      ]
    },
    {
      "cell_type": "code",
      "execution_count": null,
      "metadata": {
        "colab": {
          "base_uri": "https://localhost:8080/",
          "height": 466
        },
        "id": "knHVf73h0s2g",
        "outputId": "2b5001d8-ef70-4bb7-e6df-3dc4560e3d0d"
      },
      "outputs": [
        {
          "data": {
            "text/plain": [
              "Text(0, 0.5, 'Ratio of Split Greedy to Greedy')"
            ]
          },
          "execution_count": 17,
          "metadata": {},
          "output_type": "execute_result"
        },
        {
          "data": {
            "image/png": "[encoded data removed]",
            "text/plain": [
              "<Figure size 640x480 with 1 Axes>"
            ]
          },
          "metadata": {},
          "output_type": "display_data"
        }
      ],
      "source": [
        "plt.errorbar(Ns, ratios_d, yerr=rerrors_d, label = \"Determinantal\")\n",
        "plt.errorbar(Ns, ratios_b, yerr=rerrors_b, label = \"Bayesian\")\n",
        "plt.legend()\n",
        "plt.xlabel(\"N\")\n",
        "plt.ylabel(\"Ratio of Split Greedy to Greedy\")"
      ]
    },
    {
      "cell_type": "code",
      "execution_count": null,
      "metadata": {
        "id": "OX-u1XVzFa0_"
      },
      "outputs": [],
      "source": []
    },
    {
      "cell_type": "code",
      "execution_count": null,
      "metadata": {
        "colab": {
          "base_uri": "https://localhost:8080/"
        },
        "id": "0Eauceub_rHd",
        "outputId": "54d6e624-0698-4dd6-bf2e-5629e7f4172f"
      },
      "outputs": [
        {
          "name": "stdout",
          "output_type": "stream",
          "text": [
            "Downloading http://yann.lecun.com/exdb/mnist/train-images-idx3-ubyte.gz\n",
            "Downloading http://yann.lecun.com/exdb/mnist/train-images-idx3-ubyte.gz to ./MNIST/raw/train-images-idx3-ubyte.gz\n"
          ]
        },
        {
          "name": "stderr",
          "output_type": "stream",
          "text": [
            "100%|██████████| 9912422/9912422 [00:00<00:00, 81783350.60it/s]\n"
          ]
        },
        {
          "name": "stdout",
          "output_type": "stream",
          "text": [
            "Extracting ./MNIST/raw/train-images-idx3-ubyte.gz to ./MNIST/raw\n",
            "\n",
            "Downloading http://yann.lecun.com/exdb/mnist/train-labels-idx1-ubyte.gz\n",
            "Downloading http://yann.lecun.com/exdb/mnist/train-labels-idx1-ubyte.gz to ./MNIST/raw/train-labels-idx1-ubyte.gz\n"
          ]
        },
        {
          "name": "stderr",
          "output_type": "stream",
          "text": [
            "100%|██████████| 28881/28881 [00:00<00:00, 22060771.05it/s]\n"
          ]
        },
        {
          "name": "stdout",
          "output_type": "stream",
          "text": [
            "Extracting ./MNIST/raw/train-labels-idx1-ubyte.gz to ./MNIST/raw\n",
            "\n",
            "Downloading http://yann.lecun.com/exdb/mnist/t10k-images-idx3-ubyte.gz\n",
            "Downloading http://yann.lecun.com/exdb/mnist/t10k-images-idx3-ubyte.gz to ./MNIST/raw/t10k-images-idx3-ubyte.gz\n"
          ]
        },
        {
          "name": "stderr",
          "output_type": "stream",
          "text": [
            "100%|██████████| 1648877/1648877 [00:00<00:00, 21829293.87it/s]\n"
          ]
        },
        {
          "name": "stdout",
          "output_type": "stream",
          "text": [
            "Extracting ./MNIST/raw/t10k-images-idx3-ubyte.gz to ./MNIST/raw\n",
            "\n",
            "Downloading http://yann.lecun.com/exdb/mnist/t10k-labels-idx1-ubyte.gz\n",
            "Downloading http://yann.lecun.com/exdb/mnist/t10k-labels-idx1-ubyte.gz to ./MNIST/raw/t10k-labels-idx1-ubyte.gz\n"
          ]
        },
        {
          "name": "stderr",
          "output_type": "stream",
          "text": [
            "100%|██████████| 4542/4542 [00:00<00:00, 3451808.08it/s]\n"
          ]
        },
        {
          "name": "stdout",
          "output_type": "stream",
          "text": [
            "Extracting ./MNIST/raw/t10k-labels-idx1-ubyte.gz to ./MNIST/raw\n",
            "\n"
          ]
        }
      ],
      "source": [
        "import torchvision\n",
        "import torchvision.datasets as data\n",
        "import torchvision.transforms as Transforms\n",
        "\n",
        "Tflatten = Transforms.Lambda(lambda x: torch.flatten(x))\n",
        "Tfloat = Transforms.Lambda(lambda x: x.to(torch.float))\n",
        "\n",
        "T = Transforms.Compose([Transforms.ToTensor(), Tfloat, Tflatten])\n",
        "\n",
        "mnist_train = data.MNIST(\"./\", train = True, download = True, transform=T)\n",
        "# mnist_dataloader = torch.utils.data.DataLoader(mnist_train)\n",
        "# print(\"MNIST:\", next(iter(mnist_dataloader))[0].shape)"
      ]
    },
    {
      "cell_type": "code",
      "execution_count": null,
      "metadata": {
        "colab": {
          "base_uri": "https://localhost:8080/"
        },
        "id": "ZRvXcbMQ_qz8",
        "outputId": "b2d64e80-e4f8-4c64-cfec-59e33b56922d"
      },
      "outputs": [
        {
          "name": "stdout",
          "output_type": "stream",
          "text": [
            "tensor(100)\n"
          ]
        }
      ],
      "source": [
        "# Ns = [25,50,75,100,150,200,250,300,400,500]\n",
        "n = 100\n",
        "\n",
        "greedy = torch.zeros(10,5)\n",
        "greedy_1 = torch.zeros(10,5)\n",
        "\n",
        "# idx = 0\n",
        "# for n in Ns:\n",
        "#   for trial in tqdm(range(5)):\n",
        "\n",
        "\n",
        "\n",
        "\n",
        "\n",
        "counts = torch.zeros(10)\n",
        "keeps = y < -1\n",
        "for i in range(2*n):\n",
        "  if counts[y[i]] < 10:\n",
        "    counts[y[i]] += 1\n",
        "    keeps[i] = True\n",
        "\n",
        "print(sum(keeps))\n",
        "A = A[keeps,:]\n",
        "\n",
        "Sigma = A.mm(A.t())/(2*n)\n",
        "sigma = 1"
      ]
    },
    {
      "cell_type": "code",
      "execution_count": null,
      "metadata": {
        "colab": {
          "base_uri": "https://localhost:8080/"
        },
        "id": "2z1I52XeDx1d",
        "outputId": "fb554218-0ba0-4238-ca54-d6573267a1c7"
      },
      "outputs": [
        {
          "name": "stderr",
          "output_type": "stream",
          "text": [
            "100%|██████████| 4950/4950 [52:18<00:00,  1.58it/s]\n"
          ]
        }
      ],
      "source": [
        "\n",
        "idx, greedy_val = greedy_size_constraint(determinantal_f,0,10,n)\n",
        "greedy_1_val,idx1 = modified_greedy_constrained(determinantal_f,10,2,n)\n",
        "  # idx+=1\n",
        "\n",
        "  # print(greedy_1[idx-1,:].mean()/greedy[idx-1,:].mean())\n",
        "\n",
        "  # torch.save(greedy,\"drive/MyDrive/JIM/greedy-bayesian-\"+str(n)+\"-15.pt\")\n",
        "  # torch.save(greedy_1,\"drive/MyDrive/JIM/modified-greedy-1-bayesian-\"+str(n)+\"-15.pt\")\n",
        "\n",
        "\n"
      ]
    },
    {
      "cell_type": "code",
      "execution_count": null,
      "metadata": {
        "id": "UHuFV_QtAo8t"
      },
      "outputs": [],
      "source": [
        "S_1 = format(idx1,\"0\"+str(n)+\"b\")\n",
        "indexes_1 = torch.zeros(n, dtype = torch.long)\n",
        "idxp = 0\n",
        "for j in range(n):\n",
        "  if S_1[j] == \"1\":\n",
        "    indexes_1[idxp] = j\n",
        "    idxp += 1\n",
        "indexes_1 = indexes_1[:idxp]\n",
        "\n",
        "S = format(idx,\"0\"+str(n)+\"b\")\n",
        "indexes = torch.zeros(n, dtype = torch.long)\n",
        "idxp = 0\n",
        "for j in range(n):\n",
        "  if S[j] == \"1\":\n",
        "    indexes[idxp] = j\n",
        "    idxp += 1\n",
        "indexes = indexes[:idxp]"
      ]
    },
    {
      "cell_type": "code",
      "execution_count": null,
      "metadata": {
        "colab": {
          "base_uri": "https://localhost:8080/",
          "height": 407
        },
        "id": "fmPitSj1BKeW",
        "outputId": "1a89ed2c-8e4d-4f5b-d945-021726b28de1"
      },
      "outputs": [
        {
          "data": {
            "image/png": "[encoded data removed]",
            "text/plain": [
              "<Figure size 1000x500 with 10 Axes>"
            ]
          },
          "metadata": {},
          "output_type": "display_data"
        }
      ],
      "source": [
        "from matplotlib.gridspec import GridSpec\n",
        "\n",
        "fig = plt.figure(figsize=(10, 5), )\n",
        "\n",
        "gs = GridSpec(nrows=2, ncols=5)\n",
        "for i in range(2):\n",
        "  for j in range(5):\n",
        "    S_idx = i*5+j\n",
        "    ax = fig.add_subplot(gs[i, j])\n",
        "    ax.imshow(A[indexes[S_idx],:].reshape(28,28))"
      ]
    },
    {
      "cell_type": "code",
      "execution_count": null,
      "metadata": {
        "colab": {
          "base_uri": "https://localhost:8080/",
          "height": 218
        },
        "id": "Tnp-l8OgDdDw",
        "outputId": "ec1c8c56-71cf-40ff-cc8e-7e5ed9e84931"
      },
      "outputs": [
        {
          "data": {
            "image/png": "[encoded data removed]",
            "text/plain": [
              "<Figure size 1000x200 with 10 Axes>"
            ]
          },
          "metadata": {},
          "output_type": "display_data"
        }
      ],
      "source": [
        "fig = plt.figure(figsize=(10, 2), )\n",
        "\n",
        "gs = GridSpec(nrows=2, ncols=5)\n",
        "for i in range(2):\n",
        "  for j in range(5):\n",
        "    S_idx = i*5+j\n",
        "    ax = fig.add_subplot(gs[i, j])\n",
        "    ax.imshow(A[indexes_1[S_idx],:].reshape(28,28))"
      ]
    },
    {
      "cell_type": "code",
      "execution_count": null,
      "metadata": {
        "colab": {
          "base_uri": "https://localhost:8080/"
        },
        "id": "vtQZi8rWBtda",
        "outputId": "a8625c6b-99d0-4769-c814-93df8ab8b416"
      },
      "outputs": [
        {
          "data": {
            "text/plain": [
              "tensor(1.)"
            ]
          },
          "execution_count": 56,
          "metadata": {},
          "output_type": "execute_result"
        }
      ],
      "source": [
        "greedy_1_val/greedy_val"
      ]
    },
    {
      "cell_type": "code",
      "execution_count": null,
      "metadata": {
        "id": "ZqkdyW-TBuHS"
      },
      "outputs": [],
      "source": []
    }
  ],
  "metadata": {
    "colab": {
      "machine_shape": "hm",
      "provenance": []
    },
    "gpuClass": "standard",
    "kernelspec": {
      "display_name": "Python 3",
      "name": "python3"
    },
    "language_info": {
      "name": "python"
    }
  },
  "nbformat": 4,
  "nbformat_minor": 0
}